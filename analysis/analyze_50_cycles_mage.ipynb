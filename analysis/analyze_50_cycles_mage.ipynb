{
 "cells": [
  {
   "cell_type": "markdown",
   "metadata": {
    "deletable": true,
    "editable": true
   },
   "source": [
    "# Experiment 1 Repeat Analysis started 2016-07-07\n",
    "\n",
    "In preparation for manuscript."
   ]
  },
  {
   "cell_type": "code",
   "execution_count": 1,
   "metadata": {
    "collapsed": false,
    "deletable": true,
    "editable": true
   },
   "outputs": [
    {
     "name": "stdout",
     "output_type": "stream",
     "text": [
      "pandas version 0.19.2\n"
     ]
    }
   ],
   "source": [
    "import collections\n",
    "from collections import defaultdict\n",
    "import operator\n",
    "import os\n",
    "import re\n",
    "import sys\n",
    "\n",
    "from Bio import SeqIO\n",
    "import matplotlib.pyplot as plt\n",
    "import numpy as np\n",
    "import pandas as pd\n",
    "from scipy import stats\n",
    "\n",
    "print 'pandas version', pd.__version__\n",
    "\n",
    "%matplotlib inline\n",
    "\n",
    "sys.path.append('../')\n",
    "from common_code import data_util\n",
    "from common_code import model_fitting"
   ]
  },
  {
   "cell_type": "markdown",
   "metadata": {
    "deletable": true,
    "editable": true
   },
   "source": [
    "## Constants"
   ]
  },
  {
   "cell_type": "code",
   "execution_count": 2,
   "metadata": {
    "collapsed": true,
    "deletable": true,
    "editable": true
   },
   "outputs": [],
   "source": [
    "NUM_SAMPLES = 96\n",
    "\n",
    "# NOTE: We later drop 6 samples suspecting cross-contamination,\n",
    "# thus we end up analyzing 90 samples, as described in manuscript."
   ]
  },
  {
   "cell_type": "markdown",
   "metadata": {
    "deletable": true,
    "editable": true
   },
   "source": [
    "## Helper functions"
   ]
  },
  {
   "cell_type": "markdown",
   "metadata": {
    "deletable": true,
    "editable": true
   },
   "source": [
    "Below, we'll find it useful to compare variants using a common primary key. For this purpose, we'll use tuples of the form (POSITION, REF). Let's make a helper function for generating the primary key."
   ]
  },
  {
   "cell_type": "code",
   "execution_count": 3,
   "metadata": {
    "collapsed": true,
    "deletable": true,
    "editable": true
   },
   "outputs": [],
   "source": [
    "def get_variant_key_for_df_row(df_row):\n",
    "    \"\"\"Parses unique key for a variant from Dataframe row.\n",
    "    \n",
    "    Returns key as tuple of the form: (POSITION, REF).\n",
    "    \"\"\"\n",
    "    return (df_row['POSITION'], df_row['REF'])"
   ]
  },
  {
   "cell_type": "markdown",
   "metadata": {
    "deletable": true,
    "editable": true
   },
   "source": [
    "## Data Import and Preparation"
   ]
  },
  {
   "cell_type": "markdown",
   "metadata": {
    "deletable": true,
    "editable": true
   },
   "source": [
    "Import data. Similar to previous analyses."
   ]
  },
  {
   "cell_type": "code",
   "execution_count": 4,
   "metadata": {
    "collapsed": false,
    "deletable": true,
    "editable": true
   },
   "outputs": [],
   "source": [
    "MG1655_GENBANK = 'data/mg1655_U00096.2.gb'\n",
    "mg1655_seq_record = SeqIO.read(MG1655_GENBANK, 'gb')\n",
    "mg1655_seq_str = str(mg1655_seq_record.seq)"
   ]
  },
  {
   "cell_type": "markdown",
   "metadata": {
    "deletable": true,
    "editable": true
   },
   "source": [
    "SNP data (exported from Millstone)."
   ]
  },
  {
   "cell_type": "code",
   "execution_count": 5,
   "metadata": {
    "collapsed": false,
    "deletable": true,
    "editable": true
   },
   "outputs": [],
   "source": [
    "MELTED_VARIANT_DATA = (\n",
    "        'data/fix_rec_variants_millstone_export_all_strains_2016_10_07.csv')\n",
    "melted_variant_data_snps_only_df = pd.read_csv(\n",
    "        MELTED_VARIANT_DATA, low_memory=False)\n",
    "\n",
    "# Rename columns\n",
    "melted_variant_data_snps_only_df.rename(\n",
    "        columns={'EXPERIMENT_SAMPLE_LABEL': 'BARCODE'}, inplace=True)\n",
    "\n",
    "# Get rid of rows that don't have sample in them (catch-all rows for VariantSets from Millstone).\n",
    "melted_variant_data_snps_only_df = melted_variant_data_snps_only_df[\n",
    "        melted_variant_data_snps_only_df['BARCODE'].notnull()]\n",
    "\n",
    "# Drop samples named C321.*. These were included in the Millstone alignment\n",
    "# but we are only focusing on Experiment 1 analysis here.\n",
    "melted_variant_data_snps_only_df = melted_variant_data_snps_only_df[\n",
    "        melted_variant_data_snps_only_df['BARCODE'].apply(\n",
    "                lambda b: not bool(re.match('C321.*', b)))]\n",
    "\n",
    "# Drop samples with LONG ref. We ignore SVs in this analysis.\n",
    "def _is_sv(row):\n",
    "    if pd.isnull(row['REF']):\n",
    "        assert bool(re.match('LONG.*', row['ALT']))\n",
    "        return True\n",
    "    return bool(re.match('LONG.*', row['REF']))\n",
    "melted_variant_data_snps_only_df = melted_variant_data_snps_only_df[\n",
    "        melted_variant_data_snps_only_df.apply(lambda row: not _is_sv(row), axis=1)]"
   ]
  },
  {
   "cell_type": "markdown",
   "metadata": {
    "deletable": true,
    "editable": true
   },
   "source": [
    "Import the designed UAG-to-UAA SNPs data and make sure all are accounted for."
   ]
  },
  {
   "cell_type": "code",
   "execution_count": 6,
   "metadata": {
    "collapsed": false,
    "deletable": true,
    "editable": true
   },
   "outputs": [],
   "source": [
    "# NOTE: These were manually updated.\n",
    "amber_snps_df = pd.read_csv(\n",
    "        'data/mg1655_uag_designs__freebayes_consolidated__2016_10_07.csv')\n",
    "amber_snps_df.rename(columns={'POS': 'POSITION'}, inplace=True)\n",
    "\n",
    "# Some UAGs are counted as a single SNP because they are adjacent.\n",
    "SINGLE_SNP_COMBO_AMBERS = [\n",
    "    633969, # 633970\n",
    "    745946, # 745949 \n",
    "]\n",
    "\n",
    "# Some are not called but I visually confirmed they are there in Millstone.\n",
    "UAG_NOT_CALLED_BUT_VISUALLY_VERIFIED = [\n",
    "    1431010, # Poor mapping quality region\n",
    "]    \n",
    "amber_snps_df = amber_snps_df[\n",
    "        amber_snps_df['POSITION'].apply(\n",
    "                lambda p: p not in UAG_NOT_CALLED_BUT_VISUALLY_VERIFIED)]\n",
    "\n",
    "NUM_AMBER_SNPS = 321 - len(SINGLE_SNP_COMBO_AMBERS) - len(UAG_NOT_CALLED_BUT_VISUALLY_VERIFIED)\n",
    "\n",
    "assert NUM_AMBER_SNPS == len(amber_snps_df), len(amber_snps_df)\n",
    "\n",
    "# Create (pos, ref) tuple set.\n",
    "amber_pos_ref_tuple_set = set(amber_snps_df.apply(\n",
    "        get_variant_key_for_df_row, axis=1))\n",
    "assert NUM_AMBER_SNPS == len(amber_pos_ref_tuple_set)"
   ]
  },
  {
   "cell_type": "markdown",
   "metadata": {
    "deletable": true,
    "editable": true
   },
   "source": [
    "Add Experiment data, e.g. wells, barcodes, lineage/timepoint identities, etc. These were calculated in Analysis 1."
   ]
  },
  {
   "cell_type": "code",
   "execution_count": 7,
   "metadata": {
    "collapsed": false,
    "deletable": true,
    "editable": true
   },
   "outputs": [
    {
     "name": "stdout",
     "output_type": "stream",
     "text": [
      "C321_I4_DT 87.0065433333\n",
      "ECNR1_DT 47\n"
     ]
    },
    {
     "data": {
      "text/html": [
       "<div>\n",
       "<table border=\"1\" class=\"dataframe\">\n",
       "  <thead>\n",
       "    <tr style=\"text-align: right;\">\n",
       "      <th></th>\n",
       "      <th>pos</th>\n",
       "      <th>rc_barcode</th>\n",
       "      <th>BARCODE</th>\n",
       "      <th>sample</th>\n",
       "      <th>doubling_time</th>\n",
       "      <th>lineage</th>\n",
       "      <th>time_point</th>\n",
       "      <th>actual_mage_cycle</th>\n",
       "    </tr>\n",
       "  </thead>\n",
       "  <tbody>\n",
       "    <tr>\n",
       "      <th>91</th>\n",
       "      <td>H08</td>\n",
       "      <td>GACAGA</td>\n",
       "      <td>TCTGTC</td>\n",
       "      <td>03-06</td>\n",
       "      <td>70.113961</td>\n",
       "      <td>3</td>\n",
       "      <td>6</td>\n",
       "      <td>40</td>\n",
       "    </tr>\n",
       "    <tr>\n",
       "      <th>92</th>\n",
       "      <td>H09</td>\n",
       "      <td>GCGCTA</td>\n",
       "      <td>TAGCGC</td>\n",
       "      <td>05-06</td>\n",
       "      <td>60.102475</td>\n",
       "      <td>5</td>\n",
       "      <td>6</td>\n",
       "      <td>34</td>\n",
       "    </tr>\n",
       "    <tr>\n",
       "      <th>93</th>\n",
       "      <td>H10</td>\n",
       "      <td>GAAGTC</td>\n",
       "      <td>GACTTC</td>\n",
       "      <td>C321_I4</td>\n",
       "      <td>85.300355</td>\n",
       "      <td>0</td>\n",
       "      <td>0</td>\n",
       "      <td>0</td>\n",
       "    </tr>\n",
       "    <tr>\n",
       "      <th>94</th>\n",
       "      <td>H11</td>\n",
       "      <td>TTGATT</td>\n",
       "      <td>AATCAA</td>\n",
       "      <td>C321_I4</td>\n",
       "      <td>85.964804</td>\n",
       "      <td>0</td>\n",
       "      <td>0</td>\n",
       "      <td>0</td>\n",
       "    </tr>\n",
       "    <tr>\n",
       "      <th>95</th>\n",
       "      <td>H12</td>\n",
       "      <td>CGACTC</td>\n",
       "      <td>GAGTCG</td>\n",
       "      <td>C321_I4</td>\n",
       "      <td>89.754471</td>\n",
       "      <td>0</td>\n",
       "      <td>0</td>\n",
       "      <td>0</td>\n",
       "    </tr>\n",
       "  </tbody>\n",
       "</table>\n",
       "</div>"
      ],
      "text/plain": [
       "    pos rc_barcode BARCODE   sample  doubling_time  lineage  time_point  \\\n",
       "91  H08     GACAGA  TCTGTC    03-06      70.113961        3           6   \n",
       "92  H09     GCGCTA  TAGCGC    05-06      60.102475        5           6   \n",
       "93  H10     GAAGTC  GACTTC  C321_I4      85.300355        0           0   \n",
       "94  H11     TTGATT  AATCAA  C321_I4      85.964804        0           0   \n",
       "95  H12     CGACTC  GAGTCG  C321_I4      89.754471        0           0   \n",
       "\n",
       "    actual_mage_cycle  \n",
       "91                 40  \n",
       "92                 34  \n",
       "93                  0  \n",
       "94                  0  \n",
       "95                  0  "
      ]
     },
     "execution_count": 7,
     "metadata": {},
     "output_type": "execute_result"
    }
   ],
   "source": [
    "METADATA = (\n",
    "        'data/exp_1_sequencing_wells_barcodes_samples.csv')\n",
    "\n",
    "experiment_metadata_df = pd.read_csv(METADATA)\n",
    "experiment_metadata_df = experiment_metadata_df.rename(\n",
    "        columns={'barcode': 'BARCODE'})\n",
    "experiment_metadata_df['pos'] = (\n",
    "        experiment_metadata_df['pos'].apply(\n",
    "                data_util.normalize_well_name))\n",
    "\n",
    "# Add sequencing layout data.\n",
    "LAYOUT_TO_MAGE_CYCLE_MAPPING_DATA = (\n",
    "        'data/exp_1_sequencing_layout_to_mage_cycle_mapping.csv')\n",
    "layout_to_mage_cycle_mapping_df = pd.read_csv(LAYOUT_TO_MAGE_CYCLE_MAPPING_DATA)\n",
    "layout_to_mage_cycle_mapping_df.rename(columns={'well': 'pos'}, inplace=True)\n",
    "experiment_metadata_df = pd.merge(\n",
    "        experiment_metadata_df,\n",
    "        layout_to_mage_cycle_mapping_df[['pos', 'actual_mage_cycle']],\n",
    "        how='inner',\n",
    "        on='pos'\n",
    ")\n",
    "\n",
    "C321_I4_DT = experiment_metadata_df[\n",
    "        experiment_metadata_df['pos'].apply(\n",
    "                lambda p: p in ['H10', 'H11', 'H12'])]['doubling_time'].mean()\n",
    "print 'C321_I4_DT', C321_I4_DT\n",
    "\n",
    "# Wild-type doubling time was not measured on this plate, but approximated from other plates\n",
    "# using relative ratios.\n",
    "ECNR1_DT = 47\n",
    "print 'ECNR1_DT', ECNR1_DT\n",
    "\n",
    "experiment_metadata_df[-5:]"
   ]
  },
  {
   "cell_type": "markdown",
   "metadata": {
    "deletable": true,
    "editable": true
   },
   "source": [
    "Merge with SNP data."
   ]
  },
  {
   "cell_type": "code",
   "execution_count": 8,
   "metadata": {
    "collapsed": false,
    "deletable": true,
    "editable": true
   },
   "outputs": [],
   "source": [
    "len_before_merge = len(melted_variant_data_snps_only_df)\n",
    "melted_variant_data_unfiltered_df = pd.merge(\n",
    "        melted_variant_data_snps_only_df,\n",
    "        experiment_metadata_df,\n",
    "        how='inner',\n",
    "        on=['BARCODE'])\n",
    "assert len_before_merge == len(melted_variant_data_unfiltered_df), (\n",
    "        len_before_merge, len(melted_variant_data_unfiltered_df))"
   ]
  },
  {
   "cell_type": "markdown",
   "metadata": {
    "deletable": true,
    "editable": true
   },
   "source": [
    "Below, we'll find it useful to compare variants using a common primary key. For this purpose, we'll use tuples of the form (POSITION, REF). Let's make a helper function for generating the primary key."
   ]
  },
  {
   "cell_type": "markdown",
   "metadata": {
    "deletable": true,
    "editable": true
   },
   "source": [
    "Filter out mutations that we know are not real (e.g. adjacent to lambda prophage scar) or inconsequential (mobile insertion elements) , or that we have determined are difficult to confirm via sequencing (e.g. homopolymer runs)."
   ]
  },
  {
   "cell_type": "code",
   "execution_count": 9,
   "metadata": {
    "collapsed": false,
    "deletable": true,
    "editable": true
   },
   "outputs": [
    {
     "name": "stdout",
     "output_type": "stream",
     "text": [
      "Num variant keys to delete 189\n"
     ]
    }
   ],
   "source": [
    "# First determine which keys to delete.\n",
    "# Maintain map so we can quickly query by key, but also\n",
    "# inspect by value.\n",
    "to_delete_variant_keys_to_data_row_map = {}\n",
    "\n",
    "MANUAL_IGNORE_SET = set([\n",
    "    # lambda prophage locus\n",
    "    (809582, 'A'),\n",
    "    (806566, 'C'),\n",
    "        \n",
    "    # prfA deletion locus\n",
    "    (1264224, 'C'),\n",
    "    (1265309, 'C')\n",
    "])\n",
    "\n",
    "for _, row in melted_variant_data_unfiltered_df.iterrows():\n",
    "    variant_key = get_variant_key_for_df_row(row)\n",
    "    if variant_key in to_delete_variant_keys_to_data_row_map:\n",
    "        continue\n",
    "        \n",
    "    if variant_key in amber_pos_ref_tuple_set:\n",
    "        continue\n",
    "\n",
    "    if pd.isnull(row['ALT']):\n",
    "        continue\n",
    "\n",
    "    # Ignore homopolymer runs.\n",
    "    if len(row['ALT']) > 1:\n",
    "        # Grab 2nd from end in case full homopolymer contained in ALT.\n",
    "        # e.g. (3758149, AGGGGGGC)\n",
    "        if len(row['ALT']) > 2:\n",
    "            last_nt = row['ALT'][-2]\n",
    "        else:\n",
    "            last_nt = row['ALT'][-1]\n",
    "        homopolymer_start = row['POSITION'] + 1\n",
    "        if mg1655_seq_str[homopolymer_start:homopolymer_start + 5] == last_nt * 5:\n",
    "            to_delete_variant_keys_to_data_row_map[variant_key] = row\n",
    "            continue\n",
    "            \n",
    "    if len(row['REF']) > 2:\n",
    "        last_nt = row['REF'][-2]\n",
    "        homopolymer_start = row['POSITION'] + 1\n",
    "        if mg1655_seq_str[homopolymer_start:homopolymer_start + 5] == last_nt * 5:\n",
    "            to_delete_variant_keys_to_data_row_map[variant_key] = row\n",
    "            continue\n",
    "         \n",
    "    # Manually ignore some mutation (e.g. lambda prophage).\n",
    "    if variant_key in MANUAL_IGNORE_SET:\n",
    "        to_delete_variant_keys_to_data_row_map[variant_key] = row\n",
    "        continue\n",
    "        \n",
    "    # Ignore insertion elements.\n",
    "    if not pd.isnull(row['INFO_EFF_GENE']) and row['INFO_EFF_GENE'][:3] == 'ins':\n",
    "        to_delete_variant_keys_to_data_row_map[variant_key] = row\n",
    "        continue\n",
    "    \n",
    "    \n",
    "print 'Num variant keys to delete', len(to_delete_variant_keys_to_data_row_map)\n",
    "       \n",
    "# Sanity checks for SNPs that we should be ignoring.\n",
    "TEST_DELETED_VARIANT_KEYS = [\n",
    "    # false positive homopolymer run\n",
    "    (3758149, 'AGGGGGGC'), \n",
    "    (4473579, 'CGGGGGGC'),\n",
    "    (3509760, 'CAAAAAAAAC'),\n",
    "\n",
    "    # insertion element\n",
    "    (1426076, 'T'),\n",
    "    \n",
    "    # prfA\n",
    "    (1264224, 'C'),\n",
    "] + list(MANUAL_IGNORE_SET)\n",
    "\n",
    "for test_deleted in TEST_DELETED_VARIANT_KEYS:\n",
    "    assert test_deleted in to_delete_variant_keys_to_data_row_map, test_deleted"
   ]
  },
  {
   "cell_type": "code",
   "execution_count": 10,
   "metadata": {
    "collapsed": false,
    "deletable": true,
    "editable": true
   },
   "outputs": [],
   "source": [
    "# Filter out the variants to delete identified above.\n",
    "melted_variant_data_df = melted_variant_data_unfiltered_df[\n",
    "        melted_variant_data_unfiltered_df.apply(\n",
    "                lambda row: not get_variant_key_for_df_row(row) in\n",
    "                        to_delete_variant_keys_to_data_row_map,\n",
    "                axis=1)][:]"
   ]
  },
  {
   "cell_type": "code",
   "execution_count": 11,
   "metadata": {
    "collapsed": false,
    "deletable": true,
    "editable": true
   },
   "outputs": [],
   "source": [
    "# Add an assert to make sure data doesn't change without us knowing.\n",
    "NUM_SNPS_CALLED = 2250\n",
    "assert NUM_SNPS_CALLED == len(set(melted_variant_data_df['POSITION'])), (\n",
    "        len(set(melted_variant_data_df['POSITION'])))\n",
    "\n",
    "NUM_SAMPLES = 96\n",
    "assert NUM_SAMPLES == len(set(melted_variant_data_df['BARCODE']))"
   ]
  },
  {
   "cell_type": "markdown",
   "metadata": {
    "deletable": true,
    "editable": true
   },
   "source": [
    "**NOTE**: We can still have more than one row per Variant if there are multiple alts."
   ]
  },
  {
   "cell_type": "markdown",
   "metadata": {
    "deletable": true,
    "editable": true
   },
   "source": [
    "Update GT_TYPEs based on AF as Freebayes was probably too conservative with this and to account for where we possibly had contamination."
   ]
  },
  {
   "cell_type": "code",
   "execution_count": 12,
   "metadata": {
    "collapsed": false,
    "deletable": true,
    "editable": true
   },
   "outputs": [],
   "source": [
    "# Save the original GT_TYPEs to another column.\n",
    "melted_variant_data_df['original_GT_TYPE'] = melted_variant_data_df['GT_TYPE']\n",
    "\n",
    "AF_ALT_THRESHOLD = 0.7\n",
    "\n",
    "AF_REF_THRESHOLD = 0.1\n",
    "\n",
    "def _update_gt_type(row):\n",
    "    af = row['AF']\n",
    "    if af >= AF_ALT_THRESHOLD:\n",
    "        return 2\n",
    "    elif af <= AF_REF_THRESHOLD:\n",
    "        return 0\n",
    "    else:\n",
    "        return row['GT_TYPE']\n",
    "\n",
    "melted_variant_data_df['GT_TYPE'] = melted_variant_data_df.apply(\n",
    "        _update_gt_type, axis=1)"
   ]
  },
  {
   "cell_type": "markdown",
   "metadata": {
    "deletable": true,
    "editable": true
   },
   "source": [
    "### Identify variants in the starting strain C321_I4 relative to MG1655\n",
    "\n",
    "**NOTE**: Similar to Analysis 2.\n",
    "\n",
    "We called variants relative to MG1655, so we need to determine variants in the starting strain as a reference point to identify reverted and new variants in descendant strains. Note that we ran freebayes in diploid mode, even though E. coli is haploid, so that we can more easily discern structural variations. Because of this, variants may be called as homozygous ref, heterozygous, or homozygous alt.\n",
    "\n",
    "We'll leverage the fact that we sequenced 3 clones of the starting strains so that we can deal with data. We'll say that a variant is considered to be present in the starting strain if it was called at least heterozygous (GT_TYPE = 1 or GT_TYPE = 2) in all 3 clones, and called homozygous alt (GT_TYPE = 2) in at least one of the clones. We'll ignore the actual ALT value for now, digging deeper when necessary. We're okay with ignoring ALT for now because we are interested in observing the transition from some ALT back to REF.\n"
   ]
  },
  {
   "cell_type": "markdown",
   "metadata": {
    "deletable": true,
    "editable": true
   },
   "source": [
    "Create structure containing all variants in starting set.\n",
    "\n",
    "First a structure with all variants."
   ]
  },
  {
   "cell_type": "code",
   "execution_count": 13,
   "metadata": {
    "collapsed": false,
    "deletable": true,
    "editable": true
   },
   "outputs": [
    {
     "name": "stdout",
     "output_type": "stream",
     "text": [
      "2250\n"
     ]
    }
   ],
   "source": [
    "all_variant_pos_ref_tuple_set = set(melted_variant_data_df.apply(\n",
    "        get_variant_key_for_df_row, axis=1))\n",
    "print len(all_variant_pos_ref_tuple_set)\n",
    "assert NUM_SNPS_CALLED == len(all_variant_pos_ref_tuple_set)"
   ]
  },
  {
   "cell_type": "code",
   "execution_count": 14,
   "metadata": {
    "collapsed": false,
    "deletable": true,
    "editable": true
   },
   "outputs": [],
   "source": [
    "# What are the duplicates.\n",
    "pos_observed = {}\n",
    "for (pos, ref) in all_variant_pos_ref_tuple_set:\n",
    "    if pos in pos_observed:\n",
    "        print pos, ref, pos_observed[pos]\n",
    "    pos_observed[pos] = ref"
   ]
  },
  {
   "cell_type": "markdown",
   "metadata": {
    "deletable": true,
    "editable": true
   },
   "source": [
    "Now we'll create structures that contain variants that occur in all 3 starting strains, as determined by these two criteria points mentioned above:\n",
    "\n",
    "1. At least het (GT_TYPE = 1 or GT_TYPE = 2) in all 3 clones of C321_I4.\n",
    "2. Called homozygous alt (GT_TYPE = 2) in at least 1 clone."
   ]
  },
  {
   "cell_type": "code",
   "execution_count": 15,
   "metadata": {
    "collapsed": false,
    "deletable": true,
    "editable": true
   },
   "outputs": [
    {
     "name": "stdout",
     "output_type": "stream",
     "text": [
      "num at least het 675\n",
      "num variants in starting strain 651\n"
     ]
    }
   ],
   "source": [
    "starting_strain_variants_df = melted_variant_data_df[\n",
    "        melted_variant_data_df['sample'] == 'C321_I4']\n",
    "\n",
    "# Variants that are at least HET in the starting strain.\n",
    "variants_called_at_least_het_in_starting_strains_df = (\n",
    "        starting_strain_variants_df[\n",
    "                (starting_strain_variants_df.GT_TYPE == 2) |\n",
    "                (starting_strain_variants_df.GT_TYPE == 1)])\n",
    "print 'num at least het', len(variants_called_at_least_het_in_starting_strains_df.POSITION.unique())\n",
    "\n",
    "# There's probably a pandas way to do this elegantly, but I'm going to\n",
    "# do it iteratively for now.\n",
    "\n",
    "# First, build a map from position to list of GT_TYPES.\n",
    "position_to_gt_type_list_map = defaultdict(list)\n",
    "for idx, row in variants_called_at_least_het_in_starting_strains_df.iterrows():\n",
    "    position_to_gt_type_list_map[row['POSITION']].append(row['GT_TYPE'])\n",
    "    \n",
    "MANUALLY_VERIFIED_SNP_IN_STARTING_STRAIN = set([\n",
    "    3726133, 3509760, 1757699, 4472155, 1632334])\n",
    "\n",
    "# Now keep only those positions that satisfy (1) and (2) above,\n",
    "# or are in the manual exception list.\n",
    "positions_to_keep = []\n",
    "for position, gt_type_list in position_to_gt_type_list_map.iteritems():\n",
    "    if ((len(gt_type_list) >= 3 and 2 in gt_type_list) or\n",
    "            position in MANUALLY_VERIFIED_SNP_IN_STARTING_STRAIN):\n",
    "        positions_to_keep.append(position)\n",
    "        \n",
    "# Filter down the DataFrame to the positions satisfying our constraints.\n",
    "starting_strain_variants_passing_filter = pd.merge(\n",
    "        variants_called_at_least_het_in_starting_strains_df,\n",
    "        pd.DataFrame({'POSITION': positions_to_keep}),\n",
    "        how='inner',\n",
    "        on='POSITION')\n",
    "\n",
    "# Get the (POSITION, REF) tuple set.\n",
    "variants_in_starting_strain_set = set(\n",
    "        starting_strain_variants_passing_filter.apply(\n",
    "                get_variant_key_for_df_row, axis=1))\n",
    "print 'num variants in starting strain', len(variants_in_starting_strain_set)\n",
    "assert 651 == len(variants_in_starting_strain_set) # break assert if unexpected code change"
   ]
  },
  {
   "cell_type": "markdown",
   "metadata": {
    "deletable": true,
    "editable": true
   },
   "source": [
    "### Import Target Mutations Data\n",
    "\n",
    "And check against called mutations from experiment."
   ]
  },
  {
   "cell_type": "markdown",
   "metadata": {
    "deletable": true,
    "editable": true
   },
   "source": [
    "#### UAG-to-UAA (Amber) Mutations"
   ]
  },
  {
   "cell_type": "code",
   "execution_count": 16,
   "metadata": {
    "collapsed": false,
    "deletable": true,
    "editable": true
   },
   "outputs": [],
   "source": [
    "# Check that all UAGs are accounted for.\n",
    "assert not amber_pos_ref_tuple_set - all_variant_pos_ref_tuple_set, (\n",
    "        amber_pos_ref_tuple_set - all_variant_pos_ref_tuple_set)\n",
    "\n",
    "# Check all UAGs accounted for in starting strains.\n",
    "assert not amber_pos_ref_tuple_set - variants_in_starting_strain_set"
   ]
  },
  {
   "cell_type": "markdown",
   "metadata": {
    "deletable": true,
    "editable": true
   },
   "source": [
    "#### Designed reversions\n",
    "\n",
    "We import designed reversions. Note the commented code that follows where we create the designed set csv that adjusts for discrepancies between designs and how Freebayes calls them."
   ]
  },
  {
   "cell_type": "code",
   "execution_count": 17,
   "metadata": {
    "collapsed": false,
    "deletable": true,
    "editable": true
   },
   "outputs": [
    {
     "name": "stdout",
     "output_type": "stream",
     "text": [
      "Designs considered for reversion:  117\n"
     ]
    }
   ],
   "source": [
    "# NOTE: Freebayes called some variants differently than they were designed\n",
    "# (e.g. REF/ALT of GCC/GC vs GC/G). We make a copy of the top designed SNPs\n",
    "# and consolidate them manually in the csv file.\n",
    "designed_set_df = pd.read_csv(\n",
    "        'data/snp_data_top_ranked_final__freebayes_consolidated__2016_10_07.csv')\n",
    "\n",
    "designed_set_df = designed_set_df.rename(\n",
    "        columns={'POS': 'POSITION', 'ref': 'REF'})\n",
    "\n",
    "# Create (pos, ref) tuple set.\n",
    "designed_variant_pos_ref_tuple_set = set(designed_set_df.apply(\n",
    "        get_variant_key_for_df_row, axis=1))\n",
    "assert 127 == len(designed_variant_pos_ref_tuple_set)\n",
    "\n",
    "# GK (2016-10-07): Visually confirmed that these are homopolymers and filtered out above.\n",
    "MANUALLY_CONFIRMED_IGNORE_DESIGN_SET = set([\n",
    "        (2212355, 'GCC'), (4036960, 'A'), (4472155, 'T'), (1683560, 'GC'),\n",
    "        (1622373, 'AT'), (1867040, 'GT'), (3707578, 'G'), (2198468, 'GA'),\n",
    "        (3726133, 'TCCCCCCCCG'), (3509760, 'CAAAAAAAAC')])\n",
    "\n",
    "# Not observed in Experiment 1 at all.\n",
    "missing_variant_set = (\n",
    "        designed_variant_pos_ref_tuple_set -\n",
    "        all_variant_pos_ref_tuple_set -\n",
    "        MANUALLY_CONFIRMED_IGNORE_DESIGN_SET)\n",
    "assert not missing_variant_set\n",
    "\n",
    "print 'Designs considered for reversion: ', (\n",
    "        len(designed_variant_pos_ref_tuple_set) -\n",
    "        len(designed_variant_pos_ref_tuple_set - all_variant_pos_ref_tuple_set))"
   ]
  },
  {
   "cell_type": "markdown",
   "metadata": {
    "deletable": true,
    "editable": true
   },
   "source": [
    "The code below, now commented out, programatically fixed the Freebayes output to match our designs."
   ]
  },
  {
   "cell_type": "code",
   "execution_count": 18,
   "metadata": {
    "collapsed": false,
    "deletable": true,
    "editable": true
   },
   "outputs": [],
   "source": [
    "# updated_design_representation = []\n",
    "# for _, row in designed_set_df.iterrows():\n",
    "#     variant_key = get_variant_key_for_df_row(row)\n",
    "#     if variant_key in all_variant_pos_ref_tuple_set:\n",
    "#         updated_design_representation.append({\n",
    "#             'POSITION': row['POSITION'],\n",
    "#             'REF': row['REF'],\n",
    "#             'ALT': row['alt']\n",
    "#         })\n",
    "#     else:\n",
    "#         # Try to figure out the actual representation.\n",
    "#         pos = variant_key[0]\n",
    "        \n",
    "#         # First try exact\n",
    "#         matches_df = melted_variant_data_df[\n",
    "#             (pos == melted_variant_data_df['POSITION']) &\n",
    "#             (melted_variant_data_df['GT_TYPE'] == 2)][:]\n",
    "#         if not len(matches_df):\n",
    "#             matches_df = melted_variant_data_df[\n",
    "#                 (pos - 10 <= melted_variant_data_df['POSITION']) &\n",
    "#                 (melted_variant_data_df['POSITION'] <= pos + 10) &\n",
    "#                 (melted_variant_data_df['GT_TYPE'] == 2)][:]\n",
    "#         matches_df.drop_duplicates('POSITION', inplace=True)\n",
    "#         if len(matches_df) == 1:\n",
    "#             updated_design_representation.append({\n",
    "#                 'POSITION': matches_df['POSITION'].values[0],\n",
    "#                 'REF': matches_df['REF'].values[0],\n",
    "#                 'ALT': matches_df['ALT'].values[0]\n",
    "#             })\n",
    "#         elif len(matches_df) > 1:\n",
    "#             assert False, (pos, len(matches_df))\n",
    "#         else:\n",
    "#             updated_design_representation.append({\n",
    "#                 'POSITION': row['POSITION'],\n",
    "#                 'REF': row['REF'],\n",
    "#                 'ALT': row['alt']\n",
    "#             })\n",
    "            \n",
    "# updated_reversion_designs_df = pd.merge(\n",
    "#     designed_set_df[['PRIORITY_SET', 'PRIORITY_INDIVIDUAL', 'POSITION', 'EFF_GENE']],\n",
    "#     pd.DataFrame(updated_design_representation),\n",
    "#     on='POSITION')\n",
    "\n",
    "# updated_designs_pos_ref_tuple_set = set(updated_reversion_designs_df.apply(\n",
    "#         get_variant_key_for_df_row, axis=1))\n",
    "# assert 127 == len(updated_designs_pos_ref_tuple_set)\n",
    "\n",
    "# # GK (2016-10-07): Visually confirmed that these are homopolymers and filtered out above.\n",
    "# MANUALLY_CONFIRMED_IGNORE_DESIGN_SET = set([\n",
    "#         (2212355, 'GCC'), (4036960, 'A'), (4472155, 'T'), (1683560, 'GC'),\n",
    "#         (1622373, 'AT'), (1867040, 'GT'), (3707578, 'G'), (2198468, 'GA')])\n",
    "\n",
    "# # Not observed in Experiment 1 at all.\n",
    "# missing_variant_set = (\n",
    "#         updated_designs_pos_ref_tuple_set -\n",
    "#         all_variant_pos_ref_tuple_set -\n",
    "#         MANUALLY_CONFIRMED_IGNORE_DESIGN_SET)\n",
    "# print 'Not observed in Experiment 1 at all. Ignoring %d:' % len(missing_variant_set), missing_variant_set\n",
    "\n",
    "# updated_reversion_designs_df.to_csv(\n",
    "#     'data/snp_data_top_ranked_final__freebayes_consolidated__2016_10_07.csv',\n",
    "#     index=False)\n",
    "\n",
    "# designed_variant_pos_ref_tuple_set = updated_designs_pos_ref_tuple_set"
   ]
  },
  {
   "cell_type": "markdown",
   "metadata": {
    "deletable": true,
    "editable": true
   },
   "source": [
    "**Add columns to the data that indicate how positions relate to the starting strain.**\n",
    " \n",
    "0 = same allele as starting C321_I4  \n",
    "1 = alt allele"
   ]
  },
  {
   "cell_type": "code",
   "execution_count": 19,
   "metadata": {
    "collapsed": false,
    "deletable": true,
    "editable": true
   },
   "outputs": [],
   "source": [
    "MUTATION_TYPE__AMBER = 'AMBER'\n",
    "\n",
    "MUTATION_TYPE__AMBER_REVERSION = 'AMBER_REVERSION'\n",
    "\n",
    "MUTATION_TYPE__FIXED = 'FIXED'\n",
    "\n",
    "MUTATION_TYPE__UNTARGETED_REVERSION = 'UNTARGETED_REVERSION'\n",
    "\n",
    "MUTATION_TYPE__DE_NOVO = 'DE_NOVO'\n",
    "\n",
    "MUTATION_TYPE__NONE = 'NONE'\n",
    "\n",
    "def determine_mutation_type(row):\n",
    "    \"\"\"Determines the type of mutation. Possibilities:\n",
    "        (FIXED, DE_NOVO, UNTARGETED_REVERSION, NONE)\n",
    "        \n",
    "    NOTE: This used to be represented in 2 different columns\n",
    "    IS_FIXED and IS_DE_NOVO but we realized we additionally had\n",
    "    mutations of type UNTARGETED_REVERSION. Rather than adding\n",
    "    more boolean columns, use this enum column.\n",
    "    \"\"\"\n",
    "    variant_key = get_variant_key_for_df_row(row)\n",
    "    \n",
    "    if variant_key in amber_pos_ref_tuple_set:\n",
    "        if row['GT_TYPE'] == 2:\n",
    "            return MUTATION_TYPE__AMBER\n",
    "        else:\n",
    "            return MUTATION_TYPE__AMBER_REVERSION\n",
    "    if variant_key in designed_variant_pos_ref_tuple_set:\n",
    "        if row['GT_TYPE'] == 0:\n",
    "            return MUTATION_TYPE__FIXED\n",
    "    elif variant_key in variants_in_starting_strain_set:\n",
    "        if row['GT_TYPE'] == 0:\n",
    "            return MUTATION_TYPE__UNTARGETED_REVERSION\n",
    "    elif row['GT_TYPE'] == 2:\n",
    "        # Neither in designed set or mutation in starting strain.\n",
    "        return MUTATION_TYPE__DE_NOVO\n",
    "    \n",
    "    # Default. Meets no interesting condition.\n",
    "    return MUTATION_TYPE__NONE\n",
    "\n",
    "melted_variant_data_df['MUTATION_TYPE'] = melted_variant_data_df.apply(\n",
    "        determine_mutation_type, axis=1)\n",
    "\n",
    "# Add column indicating signal relative to starting strain, either 0 or 1.\n",
    "# These are either reversions, or de novo mutations.\n",
    "# Excludes ambers, or weak evidence mutations.\n",
    "melted_variant_data_df['signal_relative_to_C321'] = (\n",
    "        melted_variant_data_df['MUTATION_TYPE'].apply(\n",
    "                lambda mt: mt in [\n",
    "                        MUTATION_TYPE__FIXED,\n",
    "                        MUTATION_TYPE__DE_NOVO,\n",
    "                        MUTATION_TYPE__UNTARGETED_REVERSION\n",
    "                ])).astype(int)"
   ]
  },
  {
   "cell_type": "markdown",
   "metadata": {
    "deletable": true,
    "editable": true
   },
   "source": [
    "Visually inspect the ones that claim to be amber reversions."
   ]
  },
  {
   "cell_type": "code",
   "execution_count": 20,
   "metadata": {
    "collapsed": false,
    "deletable": true,
    "editable": true
   },
   "outputs": [
    {
     "data": {
      "text/html": [
       "<div>\n",
       "<table border=\"1\" class=\"dataframe\">\n",
       "  <thead>\n",
       "    <tr style=\"text-align: right;\">\n",
       "      <th></th>\n",
       "      <th>UID</th>\n",
       "      <th>POSITION</th>\n",
       "      <th>CHROMOSOME</th>\n",
       "      <th>REF</th>\n",
       "      <th>ALT</th>\n",
       "      <th>BARCODE</th>\n",
       "      <th>INFO_EFF</th>\n",
       "      <th>GT</th>\n",
       "      <th>IS_HET</th>\n",
       "      <th>GQ</th>\n",
       "      <th>...</th>\n",
       "      <th>pos</th>\n",
       "      <th>rc_barcode</th>\n",
       "      <th>sample</th>\n",
       "      <th>doubling_time</th>\n",
       "      <th>lineage</th>\n",
       "      <th>time_point</th>\n",
       "      <th>actual_mage_cycle</th>\n",
       "      <th>original_GT_TYPE</th>\n",
       "      <th>MUTATION_TYPE</th>\n",
       "      <th>signal_relative_to_C321</th>\n",
       "    </tr>\n",
       "  </thead>\n",
       "  <tbody>\n",
       "    <tr>\n",
       "      <th>5806</th>\n",
       "      <td>a855d089</td>\n",
       "      <td>1632334</td>\n",
       "      <td>U00096.2</td>\n",
       "      <td>C</td>\n",
       "      <td>NaN</td>\n",
       "      <td>CCGTGA</td>\n",
       "      <td>[u'splice_region_variant+stop_retained_variant...</td>\n",
       "      <td>NaN</td>\n",
       "      <td>NaN</td>\n",
       "      <td>NaN</td>\n",
       "      <td>...</td>\n",
       "      <td>B12</td>\n",
       "      <td>TCACGG</td>\n",
       "      <td>05-07</td>\n",
       "      <td>60.662941</td>\n",
       "      <td>5</td>\n",
       "      <td>7</td>\n",
       "      <td>43</td>\n",
       "      <td>NaN</td>\n",
       "      <td>AMBER_REVERSION</td>\n",
       "      <td>0</td>\n",
       "    </tr>\n",
       "    <tr>\n",
       "      <th>166581</th>\n",
       "      <td>f69c77fe</td>\n",
       "      <td>1286207</td>\n",
       "      <td>U00096.2</td>\n",
       "      <td>G</td>\n",
       "      <td>A</td>\n",
       "      <td>CCAACC</td>\n",
       "      <td>[u'intergenic_region(MODIFIER|||n.1286207G&gt;A||...</td>\n",
       "      <td>0/1</td>\n",
       "      <td>True</td>\n",
       "      <td>NaN</td>\n",
       "      <td>...</td>\n",
       "      <td>G02</td>\n",
       "      <td>GGTTGG</td>\n",
       "      <td>03-02</td>\n",
       "      <td>73.378095</td>\n",
       "      <td>3</td>\n",
       "      <td>2</td>\n",
       "      <td>19</td>\n",
       "      <td>1.0</td>\n",
       "      <td>AMBER_REVERSION</td>\n",
       "      <td>0</td>\n",
       "    </tr>\n",
       "  </tbody>\n",
       "</table>\n",
       "<p>2 rows × 52 columns</p>\n",
       "</div>"
      ],
      "text/plain": [
       "             UID  POSITION CHROMOSOME REF  ALT BARCODE  \\\n",
       "5806    a855d089   1632334   U00096.2   C  NaN  CCGTGA   \n",
       "166581  f69c77fe   1286207   U00096.2   G    A  CCAACC   \n",
       "\n",
       "                                                 INFO_EFF   GT IS_HET  GQ  \\\n",
       "5806    [u'splice_region_variant+stop_retained_variant...  NaN    NaN NaN   \n",
       "166581  [u'intergenic_region(MODIFIER|||n.1286207G>A||...  0/1   True NaN   \n",
       "\n",
       "                 ...             pos rc_barcode sample  doubling_time  \\\n",
       "5806             ...             B12     TCACGG  05-07      60.662941   \n",
       "166581           ...             G02     GGTTGG  03-02      73.378095   \n",
       "\n",
       "        lineage  time_point actual_mage_cycle  original_GT_TYPE  \\\n",
       "5806          5           7                43               NaN   \n",
       "166581        3           2                19               1.0   \n",
       "\n",
       "          MUTATION_TYPE  signal_relative_to_C321  \n",
       "5806    AMBER_REVERSION                        0  \n",
       "166581  AMBER_REVERSION                        0  \n",
       "\n",
       "[2 rows x 52 columns]"
      ]
     },
     "execution_count": 20,
     "metadata": {},
     "output_type": "execute_result"
    }
   ],
   "source": [
    "melted_variant_data_df[\n",
    "        melted_variant_data_df['MUTATION_TYPE'] ==\n",
    "                MUTATION_TYPE__AMBER_REVERSION].drop_duplicates('POSITION')"
   ]
  },
  {
   "cell_type": "markdown",
   "metadata": {
    "deletable": true,
    "editable": true
   },
   "source": [
    "Visual inspection confirms these are really there, just weren't called correctly by Freebayes.\n",
    "\n",
    "Correct these manually."
   ]
  },
  {
   "cell_type": "code",
   "execution_count": 21,
   "metadata": {
    "collapsed": false,
    "deletable": true,
    "editable": true
   },
   "outputs": [],
   "source": [
    "melted_variant_data_df['MUTATION_TYPE'] = (\n",
    "        melted_variant_data_df['MUTATION_TYPE'].apply(\n",
    "                lambda mt: mt if mt != MUTATION_TYPE__AMBER_REVERSION else MUTATION_TYPE__AMBER))"
   ]
  },
  {
   "cell_type": "markdown",
   "metadata": {
    "deletable": true,
    "editable": true
   },
   "source": [
    "**Generate useful sets of (POSITION, REF) for fixed and de novo variants.**"
   ]
  },
  {
   "cell_type": "code",
   "execution_count": 22,
   "metadata": {
    "collapsed": false,
    "deletable": true,
    "editable": true
   },
   "outputs": [
    {
     "name": "stdout",
     "output_type": "stream",
     "text": [
      "318\n",
      "30528\n"
     ]
    }
   ],
   "source": [
    "amber_variants_set = set(melted_variant_data_df[\n",
    "        melted_variant_data_df['MUTATION_TYPE'] == MUTATION_TYPE__AMBER].apply(\n",
    "                get_variant_key_for_df_row, axis=1))\n",
    "print len(amber_variants_set)\n",
    "assert NUM_AMBER_SNPS == len(amber_variants_set) # catch data changes\n",
    "\n",
    "amber_variants_df = melted_variant_data_df[\n",
    "        melted_variant_data_df.apply(\n",
    "                lambda row: get_variant_key_for_df_row(row) in\n",
    "                        amber_variants_set, axis=1)]\n",
    "print len(amber_variants_df)"
   ]
  },
  {
   "cell_type": "code",
   "execution_count": 23,
   "metadata": {
    "collapsed": false,
    "deletable": true,
    "editable": true
   },
   "outputs": [
    {
     "name": "stdout",
     "output_type": "stream",
     "text": [
      "99\n",
      "9527\n"
     ]
    }
   ],
   "source": [
    "# Identify fixed variants going relative to starting strain.\n",
    "variants_fixed_at_least_once = set(melted_variant_data_df[\n",
    "        melted_variant_data_df['MUTATION_TYPE'] == 'FIXED'].apply(\n",
    "                get_variant_key_for_df_row, axis=1))\n",
    "print len(variants_fixed_at_least_once)\n",
    "assert 99 == len(variants_fixed_at_least_once) # catch data changes\n",
    "\n",
    "variants_fixed_at_least_once_df = melted_variant_data_df[\n",
    "        melted_variant_data_df.apply(\n",
    "                lambda row: get_variant_key_for_df_row(row) in\n",
    "                        variants_fixed_at_least_once, axis=1)]\n",
    "print len(variants_fixed_at_least_once_df)"
   ]
  },
  {
   "cell_type": "markdown",
   "metadata": {
    "deletable": true,
    "editable": true
   },
   "source": [
    "Inspect the ones never observed."
   ]
  },
  {
   "cell_type": "code",
   "execution_count": 24,
   "metadata": {
    "collapsed": false,
    "deletable": true,
    "editable": true
   },
   "outputs": [
    {
     "data": {
      "text/html": [
       "<div>\n",
       "<table border=\"1\" class=\"dataframe\">\n",
       "  <thead>\n",
       "    <tr style=\"text-align: right;\">\n",
       "      <th></th>\n",
       "      <th>PRIORITY_SET</th>\n",
       "      <th>PRIORITY_INDIVIDUAL</th>\n",
       "      <th>POSITION</th>\n",
       "      <th>EFF_GENE</th>\n",
       "      <th>ALT</th>\n",
       "      <th>REF</th>\n",
       "    </tr>\n",
       "  </thead>\n",
       "  <tbody>\n",
       "    <tr>\n",
       "      <th>34</th>\n",
       "      <td>2</td>\n",
       "      <td>35</td>\n",
       "      <td>162927</td>\n",
       "      <td>hrpB</td>\n",
       "      <td>A</td>\n",
       "      <td>G</td>\n",
       "    </tr>\n",
       "    <tr>\n",
       "      <th>43</th>\n",
       "      <td>3</td>\n",
       "      <td>44</td>\n",
       "      <td>1286375</td>\n",
       "      <td>rttR</td>\n",
       "      <td>C</td>\n",
       "      <td>T</td>\n",
       "    </tr>\n",
       "    <tr>\n",
       "      <th>54</th>\n",
       "      <td>4</td>\n",
       "      <td>55</td>\n",
       "      <td>280883</td>\n",
       "      <td>yagA</td>\n",
       "      <td>CG</td>\n",
       "      <td>CGG</td>\n",
       "    </tr>\n",
       "    <tr>\n",
       "      <th>59</th>\n",
       "      <td>4</td>\n",
       "      <td>60</td>\n",
       "      <td>7922</td>\n",
       "      <td>yaaJ</td>\n",
       "      <td>CAAA</td>\n",
       "      <td>CAA</td>\n",
       "    </tr>\n",
       "    <tr>\n",
       "      <th>63</th>\n",
       "      <td>4</td>\n",
       "      <td>64</td>\n",
       "      <td>1207756</td>\n",
       "      <td>tfaE</td>\n",
       "      <td>TA</td>\n",
       "      <td>TCA</td>\n",
       "    </tr>\n",
       "    <tr>\n",
       "      <th>69</th>\n",
       "      <td>4</td>\n",
       "      <td>70</td>\n",
       "      <td>1005635</td>\n",
       "      <td>ycbW</td>\n",
       "      <td>TG</td>\n",
       "      <td>TGG</td>\n",
       "    </tr>\n",
       "    <tr>\n",
       "      <th>70</th>\n",
       "      <td>4</td>\n",
       "      <td>71</td>\n",
       "      <td>4509169</td>\n",
       "      <td>fecE</td>\n",
       "      <td>T</td>\n",
       "      <td>C</td>\n",
       "    </tr>\n",
       "    <tr>\n",
       "      <th>73</th>\n",
       "      <td>4</td>\n",
       "      <td>74</td>\n",
       "      <td>1755775</td>\n",
       "      <td>ynhG</td>\n",
       "      <td>CT</td>\n",
       "      <td>CTCTGGT</td>\n",
       "    </tr>\n",
       "    <tr>\n",
       "      <th>75</th>\n",
       "      <td>4</td>\n",
       "      <td>76</td>\n",
       "      <td>3506472</td>\n",
       "      <td>php</td>\n",
       "      <td>GC</td>\n",
       "      <td>GCC</td>\n",
       "    </tr>\n",
       "    <tr>\n",
       "      <th>85</th>\n",
       "      <td>4</td>\n",
       "      <td>86</td>\n",
       "      <td>3181028</td>\n",
       "      <td>zupT</td>\n",
       "      <td>A</td>\n",
       "      <td>G</td>\n",
       "    </tr>\n",
       "    <tr>\n",
       "      <th>88</th>\n",
       "      <td>4</td>\n",
       "      <td>89</td>\n",
       "      <td>4322899</td>\n",
       "      <td>phnC</td>\n",
       "      <td>G</td>\n",
       "      <td>A</td>\n",
       "    </tr>\n",
       "    <tr>\n",
       "      <th>92</th>\n",
       "      <td>5</td>\n",
       "      <td>93</td>\n",
       "      <td>1072955</td>\n",
       "      <td>rutA</td>\n",
       "      <td>T</td>\n",
       "      <td>C</td>\n",
       "    </tr>\n",
       "    <tr>\n",
       "      <th>98</th>\n",
       "      <td>5</td>\n",
       "      <td>99</td>\n",
       "      <td>1448416</td>\n",
       "      <td>tynA</td>\n",
       "      <td>T</td>\n",
       "      <td>C</td>\n",
       "    </tr>\n",
       "    <tr>\n",
       "      <th>103</th>\n",
       "      <td>5</td>\n",
       "      <td>104</td>\n",
       "      <td>3338610</td>\n",
       "      <td>yrbG</td>\n",
       "      <td>C</td>\n",
       "      <td>T</td>\n",
       "    </tr>\n",
       "    <tr>\n",
       "      <th>107</th>\n",
       "      <td>5</td>\n",
       "      <td>108</td>\n",
       "      <td>2619329</td>\n",
       "      <td>purM</td>\n",
       "      <td>G</td>\n",
       "      <td>A</td>\n",
       "    </tr>\n",
       "    <tr>\n",
       "      <th>108</th>\n",
       "      <td>5</td>\n",
       "      <td>109</td>\n",
       "      <td>3306890</td>\n",
       "      <td>nlpI</td>\n",
       "      <td>A</td>\n",
       "      <td>G</td>\n",
       "    </tr>\n",
       "    <tr>\n",
       "      <th>121</th>\n",
       "      <td>5</td>\n",
       "      <td>122</td>\n",
       "      <td>2272188</td>\n",
       "      <td>yejA</td>\n",
       "      <td>G</td>\n",
       "      <td>A</td>\n",
       "    </tr>\n",
       "    <tr>\n",
       "      <th>125</th>\n",
       "      <td>5</td>\n",
       "      <td>126</td>\n",
       "      <td>2476114</td>\n",
       "      <td>dsdX</td>\n",
       "      <td>G</td>\n",
       "      <td>A</td>\n",
       "    </tr>\n",
       "  </tbody>\n",
       "</table>\n",
       "</div>"
      ],
      "text/plain": [
       "     PRIORITY_SET  PRIORITY_INDIVIDUAL  POSITION EFF_GENE   ALT      REF\n",
       "34              2                   35    162927     hrpB     A        G\n",
       "43              3                   44   1286375     rttR     C        T\n",
       "54              4                   55    280883     yagA    CG      CGG\n",
       "59              4                   60      7922     yaaJ  CAAA      CAA\n",
       "63              4                   64   1207756     tfaE    TA      TCA\n",
       "69              4                   70   1005635     ycbW    TG      TGG\n",
       "70              4                   71   4509169     fecE     T        C\n",
       "73              4                   74   1755775     ynhG    CT  CTCTGGT\n",
       "75              4                   76   3506472      php    GC      GCC\n",
       "85              4                   86   3181028     zupT     A        G\n",
       "88              4                   89   4322899     phnC     G        A\n",
       "92              5                   93   1072955     rutA     T        C\n",
       "98              5                   99   1448416     tynA     T        C\n",
       "103             5                  104   3338610     yrbG     C        T\n",
       "107             5                  108   2619329     purM     G        A\n",
       "108             5                  109   3306890     nlpI     A        G\n",
       "121             5                  122   2272188     yejA     G        A\n",
       "125             5                  126   2476114     dsdX     G        A"
      ]
     },
     "execution_count": 24,
     "metadata": {},
     "output_type": "execute_result"
    }
   ],
   "source": [
    "unobserved_design_versions_set = (\n",
    "        designed_variant_pos_ref_tuple_set -\n",
    "        MANUALLY_CONFIRMED_IGNORE_DESIGN_SET -\n",
    "        variants_fixed_at_least_once)\n",
    "designed_set_df[\n",
    "        designed_set_df.apply(\n",
    "                lambda row: get_variant_key_for_df_row(row) in unobserved_design_versions_set,\n",
    "                axis=1)]"
   ]
  },
  {
   "cell_type": "code",
   "execution_count": 25,
   "metadata": {
    "collapsed": false,
    "deletable": true,
    "editable": true
   },
   "outputs": [
    {
     "name": "stdout",
     "output_type": "stream",
     "text": [
      "6\n"
     ]
    }
   ],
   "source": [
    "untargeted_reversions_set = set(melted_variant_data_df[\n",
    "        melted_variant_data_df['MUTATION_TYPE'] == 'UNTARGETED_REVERSION'].apply(\n",
    "                get_variant_key_for_df_row, axis=1))\n",
    "print len(untargeted_reversions_set)\n",
    "\n",
    "untargeted_reversions_df = melted_variant_data_df[\n",
    "        melted_variant_data_df.apply(\n",
    "                lambda row: get_variant_key_for_df_row(row) in\n",
    "                        untargeted_reversions_set, axis=1)]"
   ]
  },
  {
   "cell_type": "markdown",
   "metadata": {
    "deletable": true,
    "editable": true
   },
   "source": [
    "Inspected these by eye and most appear to be tough to call (e.g. homopolymers or paralogous regions). Only 4617936 is a solid call, but it happens in a single clone at lineage 5 timepoint 7 so it is difficult to infer anything meaningful."
   ]
  },
  {
   "cell_type": "code",
   "execution_count": 26,
   "metadata": {
    "collapsed": false,
    "deletable": true,
    "editable": true
   },
   "outputs": [
    {
     "name": "stdout",
     "output_type": "stream",
     "text": [
      "1336\n",
      "128066\n"
     ]
    }
   ],
   "source": [
    "de_novo_variants = set(melted_variant_data_df[\n",
    "        melted_variant_data_df['MUTATION_TYPE'] == 'DE_NOVO'].apply(\n",
    "                get_variant_key_for_df_row, axis=1).values)\n",
    "print len(de_novo_variants)\n",
    "\n",
    "de_novo_variatns_df = melted_variant_data_df[\n",
    "        melted_variant_data_df.apply(\n",
    "                lambda row: get_variant_key_for_df_row(row) in\n",
    "                        de_novo_variants, axis=1)]\n",
    "print len(de_novo_variatns_df)"
   ]
  },
  {
   "cell_type": "markdown",
   "metadata": {
    "deletable": true,
    "editable": true
   },
   "source": [
    "What about the remaining variants?  These are neither in starting set, fixed, nor de novo."
   ]
  },
  {
   "cell_type": "code",
   "execution_count": 27,
   "metadata": {
    "collapsed": false,
    "deletable": true,
    "editable": true
   },
   "outputs": [
    {
     "name": "stdout",
     "output_type": "stream",
     "text": [
      "df size 25248\n",
      "unique variant positions 263\n",
      "# GT_TYPE=0 24105\n",
      "# GT_TYPE=1 1143\n",
      "# GT_TYPE=2 0\n"
     ]
    }
   ],
   "source": [
    "def is_variant_unaccounted_for(row):\n",
    "    key = get_variant_key_for_df_row(row)\n",
    "    return not (\n",
    "            key in de_novo_variants or\n",
    "            key in variants_in_starting_strain_set)\n",
    "unaccounted_for_variants_df = melted_variant_data_df[\n",
    "        melted_variant_data_df.apply(is_variant_unaccounted_for, axis=1)]\n",
    "\n",
    "unaccounted_for_variants_position_set = set(unaccounted_for_variants_df['POSITION'])\n",
    "print 'df size', len(unaccounted_for_variants_df)\n",
    "print 'unique variant positions', len(unaccounted_for_variants_position_set)\n",
    "\n",
    "print '# GT_TYPE=0', len(unaccounted_for_variants_df[unaccounted_for_variants_df['GT_TYPE'] == 0])\n",
    "print '# GT_TYPE=1', len(unaccounted_for_variants_df[unaccounted_for_variants_df['GT_TYPE'] == 1])\n",
    "print '# GT_TYPE=2', len(unaccounted_for_variants_df[unaccounted_for_variants_df['GT_TYPE'] == 2])\n",
    "assert len(unaccounted_for_variants_df[unaccounted_for_variants_df['GT_TYPE'] == 2]) == 0"
   ]
  },
  {
   "cell_type": "markdown",
   "metadata": {
    "deletable": true,
    "editable": true
   },
   "source": [
    "These are never GT_TYPE = 2 and mostly GT_TYPE = 0, so it appears that they are due to noise."
   ]
  },
  {
   "cell_type": "markdown",
   "metadata": {
    "deletable": true,
    "editable": true
   },
   "source": [
    "Thus it looks like that we've accounted for all variants.  The remaining ones were all het or homo ref. A few sanity checks and useful data structures"
   ]
  },
  {
   "cell_type": "code",
   "execution_count": 28,
   "metadata": {
    "collapsed": false,
    "deletable": true,
    "editable": true
   },
   "outputs": [
    {
     "name": "stdout",
     "output_type": "stream",
     "text": [
      "de novo variants 1336\n",
      "variants in starting strain 651\n",
      "NUM_SIGNAL_SNPS 1441\n"
     ]
    }
   ],
   "source": [
    "# Make sure all SNP positions are in some category.\n",
    "assert NUM_SNPS_CALLED == (len(de_novo_variants) +\n",
    "        len(variants_in_starting_strain_set) +\n",
    "        len(unaccounted_for_variants_position_set))\n",
    "\n",
    "SIGNAL_SNP_POSITIONS_SET = (\n",
    "        set([x[0] for x in de_novo_variants]) |\n",
    "        set([x[0] for x in variants_fixed_at_least_once]) |\n",
    "        set([x[0] for x in untargeted_reversions_set])\n",
    ")\n",
    "assert len(SIGNAL_SNP_POSITIONS_SET) == (\n",
    "        len(de_novo_variants) +\n",
    "        len(variants_fixed_at_least_once) +\n",
    "        len(untargeted_reversions_set))\n",
    "NUM_SIGNAL_SNPS = len(SIGNAL_SNP_POSITIONS_SET)\n",
    "\n",
    "# Sanity check: Another way of calculating that. Should match.\n",
    "assert NUM_SIGNAL_SNPS == len(\n",
    "        set(melted_variant_data_df[melted_variant_data_df['signal_relative_to_C321'] == 1]['POSITION']))\n",
    "\n",
    "print 'de novo variants', len(de_novo_variants)\n",
    "print 'variants in starting strain', len(variants_in_starting_strain_set)\n",
    "print 'NUM_SIGNAL_SNPS', NUM_SIGNAL_SNPS"
   ]
  },
  {
   "cell_type": "markdown",
   "metadata": {
    "deletable": true,
    "editable": true
   },
   "source": [
    "**Create a data structure that has annotation data only, useful for annotating model data.**"
   ]
  },
  {
   "cell_type": "code",
   "execution_count": 29,
   "metadata": {
    "collapsed": false,
    "deletable": true,
    "editable": true
   },
   "outputs": [],
   "source": [
    "METADATA_FIELDS = [\n",
    "    'POSITION',\n",
    "    'REF',\n",
    "    'ALT',\n",
    "    'MUTATION_TYPE',\n",
    "    'INFO_EFF_GENE',\n",
    "    'INFO_EFF_IMPACT',\n",
    "    'INFO_EFF_AA',\n",
    "    'GT_TYPE'\n",
    "]\n",
    "\n",
    "variant_data_annotated_only_df = (\n",
    "        melted_variant_data_df[\n",
    "                (melted_variant_data_df['POSITION'].apply(\n",
    "                        lambda p: p in SIGNAL_SNP_POSITIONS_SET)) &\n",
    "                (melted_variant_data_df['GT_TYPE'].apply(lambda gt: gt in (1, 2)))])\n",
    "variant_data_annotated_only_df = (\n",
    "        variant_data_annotated_only_df.drop_duplicates(['POSITION', 'REF']))\n",
    "variant_data_annotated_only_df = variant_data_annotated_only_df[METADATA_FIELDS]\n",
    "\n",
    "# Add occurrence counts for these SNPS.\n",
    "positive_signal_df = melted_variant_data_df[\n",
    "    melted_variant_data_df['signal_relative_to_C321'] == 1]\n",
    "counts_per_position_series = positive_signal_df['POSITION'].value_counts()\n",
    "counts_per_position_df = counts_per_position_series.to_frame(name='count')\n",
    "counts_per_position_df['POSITION'] = counts_per_position_df.index\n",
    "variant_data_annotated_only_df = pd.merge(\n",
    "    variant_data_annotated_only_df,\n",
    "    counts_per_position_df,\n",
    "    how='left',\n",
    "    on='POSITION')\n",
    "\n",
    "# Fix MUTTION_TYPE. The reason these may be broken is that\n",
    "# variant_data_annotated_only_df was made by \n",
    "# dropping duplicates by position and ref, which might not\n",
    "# have included a row of the appropriate GT_TYPE to have the\n",
    "# right annotation.\n",
    "def fix_mutation_type(row):\n",
    "    variant_key = get_variant_key_for_df_row(row)\n",
    "    if variant_key in variants_fixed_at_least_once:\n",
    "        return MUTATION_TYPE__FIXED\n",
    "    elif variant_key in untargeted_reversions_set:\n",
    "        return MUTATION_TYPE__UNTARGETED_REVERSION\n",
    "    elif variant_key in de_novo_variants:\n",
    "        return MUTATION_TYPE__DE_NOVO\n",
    "    else:\n",
    "        return MUTATION_TYPE__NONE\n",
    "    \n",
    "variant_data_annotated_only_df['MUTATION_TYPE'] = (\n",
    "        variant_data_annotated_only_df.apply(\n",
    "                fix_mutation_type, axis=1))\n",
    "\n",
    "# Assert all accounted for.\n",
    "assert not len(variant_data_annotated_only_df[\n",
    "        variant_data_annotated_only_df['MUTATION_TYPE'] == MUTATION_TYPE__NONE])\n",
    "\n",
    "assert len(variant_data_annotated_only_df) == len(\n",
    "        set(variant_data_annotated_only_df['POSITION']))\n",
    "# assert len(variant_data_annotated_only_df) == NUM_SIGNAL_SNPS"
   ]
  },
  {
   "cell_type": "code",
   "execution_count": 30,
   "metadata": {
    "collapsed": false,
    "deletable": true,
    "editable": true
   },
   "outputs": [
    {
     "name": "stdout",
     "output_type": "stream",
     "text": [
      "FIXED 99\n",
      "DE NOVO 1336\n"
     ]
    }
   ],
   "source": [
    "print 'FIXED', len(\n",
    "        variant_data_annotated_only_df[\n",
    "                variant_data_annotated_only_df['MUTATION_TYPE'] ==\n",
    "                        MUTATION_TYPE__FIXED])\n",
    "\n",
    "print 'DE NOVO', len(\n",
    "        variant_data_annotated_only_df[\n",
    "                variant_data_annotated_only_df['MUTATION_TYPE'] ==\n",
    "                        MUTATION_TYPE__DE_NOVO])"
   ]
  },
  {
   "cell_type": "markdown",
   "metadata": {
    "deletable": true,
    "editable": true
   },
   "source": [
    "## Analyze Mutation Dynamics\n",
    "\n",
    "Look at dynamics of how mutations arise in the population.\n",
    "\n",
    "First, for each sample, count the number of de novo and reversion mutations."
   ]
  },
  {
   "cell_type": "code",
   "execution_count": 31,
   "metadata": {
    "collapsed": false,
    "deletable": true,
    "editable": true
   },
   "outputs": [
    {
     "data": {
      "text/html": [
       "<div>\n",
       "<table border=\"1\" class=\"dataframe\">\n",
       "  <thead>\n",
       "    <tr style=\"text-align: right;\">\n",
       "      <th></th>\n",
       "      <th>pos</th>\n",
       "      <th>BARCODE</th>\n",
       "      <th>sample</th>\n",
       "      <th>doubling_time</th>\n",
       "      <th>lineage</th>\n",
       "      <th>time_point</th>\n",
       "      <th>actual_mage_cycle</th>\n",
       "      <th>AMBER</th>\n",
       "      <th>DE_NOVO</th>\n",
       "      <th>FIXED</th>\n",
       "      <th>NONE</th>\n",
       "      <th>UNTARGETED_REVERSION</th>\n",
       "      <th>ORIG_HET_COUNT</th>\n",
       "      <th>UPDATED_HET_COUNT</th>\n",
       "      <th>FIXED_per_MAGE_cycle</th>\n",
       "      <th>DE_NOVO_per_MAGE_cycle</th>\n",
       "      <th>DE_NOVO_to_FIXED_ratio</th>\n",
       "    </tr>\n",
       "  </thead>\n",
       "  <tbody>\n",
       "    <tr>\n",
       "      <th>0</th>\n",
       "      <td>A01</td>\n",
       "      <td>AACCTG</td>\n",
       "      <td>01-01</td>\n",
       "      <td>78.331670</td>\n",
       "      <td>1</td>\n",
       "      <td>1</td>\n",
       "      <td>5</td>\n",
       "      <td>318.0</td>\n",
       "      <td>NaN</td>\n",
       "      <td>NaN</td>\n",
       "      <td>1930.0</td>\n",
       "      <td>NaN</td>\n",
       "      <td>43</td>\n",
       "      <td>30</td>\n",
       "      <td>NaN</td>\n",
       "      <td>NaN</td>\n",
       "      <td>NaN</td>\n",
       "    </tr>\n",
       "    <tr>\n",
       "      <th>12</th>\n",
       "      <td>B01</td>\n",
       "      <td>CACCGT</td>\n",
       "      <td>01-01</td>\n",
       "      <td>77.343979</td>\n",
       "      <td>1</td>\n",
       "      <td>1</td>\n",
       "      <td>5</td>\n",
       "      <td>318.0</td>\n",
       "      <td>6.0</td>\n",
       "      <td>1.0</td>\n",
       "      <td>1923.0</td>\n",
       "      <td>NaN</td>\n",
       "      <td>21</td>\n",
       "      <td>11</td>\n",
       "      <td>0.2</td>\n",
       "      <td>1.2</td>\n",
       "      <td>6.0</td>\n",
       "    </tr>\n",
       "    <tr>\n",
       "      <th>24</th>\n",
       "      <td>C01</td>\n",
       "      <td>AGTAAT</td>\n",
       "      <td>01-01</td>\n",
       "      <td>76.202194</td>\n",
       "      <td>1</td>\n",
       "      <td>1</td>\n",
       "      <td>5</td>\n",
       "      <td>318.0</td>\n",
       "      <td>2.0</td>\n",
       "      <td>NaN</td>\n",
       "      <td>1928.0</td>\n",
       "      <td>NaN</td>\n",
       "      <td>31</td>\n",
       "      <td>17</td>\n",
       "      <td>NaN</td>\n",
       "      <td>0.4</td>\n",
       "      <td>NaN</td>\n",
       "    </tr>\n",
       "    <tr>\n",
       "      <th>36</th>\n",
       "      <td>D01</td>\n",
       "      <td>GCGCTA</td>\n",
       "      <td>01-01</td>\n",
       "      <td>71.441390</td>\n",
       "      <td>1</td>\n",
       "      <td>1</td>\n",
       "      <td>5</td>\n",
       "      <td>318.0</td>\n",
       "      <td>3.0</td>\n",
       "      <td>1.0</td>\n",
       "      <td>1926.0</td>\n",
       "      <td>NaN</td>\n",
       "      <td>34</td>\n",
       "      <td>25</td>\n",
       "      <td>0.2</td>\n",
       "      <td>0.6</td>\n",
       "      <td>3.0</td>\n",
       "    </tr>\n",
       "  </tbody>\n",
       "</table>\n",
       "</div>"
      ],
      "text/plain": [
       "    pos BARCODE sample  doubling_time  lineage  time_point  actual_mage_cycle  \\\n",
       "0   A01  AACCTG  01-01      78.331670        1           1                  5   \n",
       "12  B01  CACCGT  01-01      77.343979        1           1                  5   \n",
       "24  C01  AGTAAT  01-01      76.202194        1           1                  5   \n",
       "36  D01  GCGCTA  01-01      71.441390        1           1                  5   \n",
       "\n",
       "    AMBER  DE_NOVO  FIXED    NONE  UNTARGETED_REVERSION  ORIG_HET_COUNT  \\\n",
       "0   318.0      NaN    NaN  1930.0                   NaN              43   \n",
       "12  318.0      6.0    1.0  1923.0                   NaN              21   \n",
       "24  318.0      2.0    NaN  1928.0                   NaN              31   \n",
       "36  318.0      3.0    1.0  1926.0                   NaN              34   \n",
       "\n",
       "    UPDATED_HET_COUNT  FIXED_per_MAGE_cycle  DE_NOVO_per_MAGE_cycle  \\\n",
       "0                  30                   NaN                     NaN   \n",
       "12                 11                   0.2                     1.2   \n",
       "24                 17                   NaN                     0.4   \n",
       "36                 25                   0.2                     0.6   \n",
       "\n",
       "    DE_NOVO_to_FIXED_ratio  \n",
       "0                      NaN  \n",
       "12                     6.0  \n",
       "24                     NaN  \n",
       "36                     3.0  "
      ]
     },
     "execution_count": 31,
     "metadata": {},
     "output_type": "execute_result"
    }
   ],
   "source": [
    "per_clone_mutation_counts_df = experiment_metadata_df[[\n",
    "        'pos', 'BARCODE', 'sample', 'doubling_time', 'lineage', 'time_point', 'actual_mage_cycle']][:]\n",
    "\n",
    "def get_mutation_counts(barcode):\n",
    "    return melted_variant_data_df[\n",
    "        melted_variant_data_df['BARCODE'] == barcode]['MUTATION_TYPE'].value_counts()\n",
    "per_clone_mutation_counts_df = per_clone_mutation_counts_df.join(\n",
    "        per_clone_mutation_counts_df['BARCODE'].apply(get_mutation_counts))\n",
    "\n",
    "# Add HET counts.\n",
    "def get_orig_het_counts(barcode):\n",
    "    return len(melted_variant_data_df[\n",
    "        (melted_variant_data_df['BARCODE'] == barcode) &\n",
    "        (melted_variant_data_df['original_GT_TYPE'] == 1)])\n",
    "per_clone_mutation_counts_df['ORIG_HET_COUNT'] = (\n",
    "        per_clone_mutation_counts_df['BARCODE'].apply(\n",
    "                get_orig_het_counts))\n",
    "\n",
    "def get_updated_het_counts(barcode):\n",
    "    return len(melted_variant_data_df[\n",
    "        (melted_variant_data_df['BARCODE'] == barcode) &\n",
    "        (melted_variant_data_df['GT_TYPE'] == 1)])\n",
    "per_clone_mutation_counts_df['UPDATED_HET_COUNT'] = (\n",
    "        per_clone_mutation_counts_df['BARCODE'].apply(\n",
    "                get_updated_het_counts))\n",
    "\n",
    "# Add a column showing average rate of FIXED mutations.\n",
    "per_clone_mutation_counts_df['FIXED_per_MAGE_cycle'] = (\n",
    "        per_clone_mutation_counts_df[MUTATION_TYPE__FIXED] / per_clone_mutation_counts_df['actual_mage_cycle'])\n",
    "\n",
    "# Add a column showing average rate of de novo mutations.\n",
    "per_clone_mutation_counts_df['DE_NOVO_per_MAGE_cycle'] = (\n",
    "        per_clone_mutation_counts_df[MUTATION_TYPE__DE_NOVO] / per_clone_mutation_counts_df['actual_mage_cycle'])\n",
    "\n",
    "# Add a column showing ratio of de novo vs fixed.\n",
    "per_clone_mutation_counts_df['DE_NOVO_to_FIXED_ratio'] = (\n",
    "        per_clone_mutation_counts_df['DE_NOVO'] / per_clone_mutation_counts_df['FIXED'])\n",
    "\n",
    "# Inspect one of these.\n",
    "per_clone_mutation_counts_df[per_clone_mutation_counts_df['sample'] == '01-01']"
   ]
  },
  {
   "cell_type": "markdown",
   "metadata": {
    "deletable": true,
    "editable": true
   },
   "source": [
    "Drop samples with excessive HET counts. We found these HET counts to be significantly different than the rest of the wells. These likely suffered cross-contamination. This is why we describe 90 samples, not 96."
   ]
  },
  {
   "cell_type": "code",
   "execution_count": 32,
   "metadata": {
    "collapsed": false,
    "deletable": true,
    "editable": true
   },
   "outputs": [
    {
     "name": "stdout",
     "output_type": "stream",
     "text": [
      "NUM HIGH HET BARCODES 6\n"
     ]
    }
   ],
   "source": [
    "high_het_barcodes_set = set(\n",
    "        per_clone_mutation_counts_df[\n",
    "                per_clone_mutation_counts_df['UPDATED_HET_COUNT'] > 30]['BARCODE'])\n",
    "print 'NUM HIGH HET BARCODES', len(high_het_barcodes_set)\n",
    "\n",
    "per_clone_mutation_counts_df = per_clone_mutation_counts_df[\n",
    "        per_clone_mutation_counts_df['BARCODE'].apply(\n",
    "                lambda b: b not in high_het_barcodes_set)]\n",
    "\n",
    "melted_variant_data_df = melted_variant_data_df[\n",
    "        melted_variant_data_df['BARCODE'].apply(\n",
    "                lambda b: b not in high_het_barcodes_set)]"
   ]
  },
  {
   "cell_type": "markdown",
   "metadata": {
    "deletable": true,
    "editable": true
   },
   "source": [
    "Aggregate by sample."
   ]
  },
  {
   "cell_type": "code",
   "execution_count": 33,
   "metadata": {
    "collapsed": false,
    "deletable": true,
    "editable": true
   },
   "outputs": [
    {
     "data": {
      "text/html": [
       "<div>\n",
       "<table border=\"1\" class=\"dataframe\">\n",
       "  <thead>\n",
       "    <tr>\n",
       "      <th></th>\n",
       "      <th>sample</th>\n",
       "      <th>lineage</th>\n",
       "      <th>time_point</th>\n",
       "      <th>actual_mage_cycle</th>\n",
       "      <th colspan=\"2\" halign=\"left\">doubling_time</th>\n",
       "      <th colspan=\"2\" halign=\"left\">FIXED</th>\n",
       "      <th colspan=\"2\" halign=\"left\">DE_NOVO</th>\n",
       "      <th colspan=\"2\" halign=\"left\">UNTARGETED_REVERSION</th>\n",
       "      <th colspan=\"2\" halign=\"left\">AMBER</th>\n",
       "    </tr>\n",
       "    <tr>\n",
       "      <th></th>\n",
       "      <th>count</th>\n",
       "      <th>first</th>\n",
       "      <th>first</th>\n",
       "      <th>first</th>\n",
       "      <th>stdev</th>\n",
       "      <th>mean</th>\n",
       "      <th>stdev</th>\n",
       "      <th>mean</th>\n",
       "      <th>stdev</th>\n",
       "      <th>mean</th>\n",
       "      <th>stdev</th>\n",
       "      <th>mean</th>\n",
       "      <th>stdev</th>\n",
       "      <th>mean</th>\n",
       "    </tr>\n",
       "    <tr>\n",
       "      <th>sample</th>\n",
       "      <th></th>\n",
       "      <th></th>\n",
       "      <th></th>\n",
       "      <th></th>\n",
       "      <th></th>\n",
       "      <th></th>\n",
       "      <th></th>\n",
       "      <th></th>\n",
       "      <th></th>\n",
       "      <th></th>\n",
       "      <th></th>\n",
       "      <th></th>\n",
       "      <th></th>\n",
       "      <th></th>\n",
       "    </tr>\n",
       "  </thead>\n",
       "  <tbody>\n",
       "    <tr>\n",
       "      <th>01-01</th>\n",
       "      <td>4</td>\n",
       "      <td>1</td>\n",
       "      <td>1</td>\n",
       "      <td>5</td>\n",
       "      <td>3.052262</td>\n",
       "      <td>75.829808</td>\n",
       "      <td>0.000000</td>\n",
       "      <td>1.000000</td>\n",
       "      <td>2.081666</td>\n",
       "      <td>3.666667</td>\n",
       "      <td>NaN</td>\n",
       "      <td>NaN</td>\n",
       "      <td>0.0</td>\n",
       "      <td>318.0</td>\n",
       "    </tr>\n",
       "    <tr>\n",
       "      <th>01-02</th>\n",
       "      <td>3</td>\n",
       "      <td>1</td>\n",
       "      <td>2</td>\n",
       "      <td>14</td>\n",
       "      <td>2.871387</td>\n",
       "      <td>71.789395</td>\n",
       "      <td>0.577350</td>\n",
       "      <td>2.333333</td>\n",
       "      <td>2.516611</td>\n",
       "      <td>9.333333</td>\n",
       "      <td>NaN</td>\n",
       "      <td>1.0</td>\n",
       "      <td>0.0</td>\n",
       "      <td>318.0</td>\n",
       "    </tr>\n",
       "    <tr>\n",
       "      <th>01-03</th>\n",
       "      <td>3</td>\n",
       "      <td>1</td>\n",
       "      <td>3</td>\n",
       "      <td>18</td>\n",
       "      <td>3.999653</td>\n",
       "      <td>73.915334</td>\n",
       "      <td>3.055050</td>\n",
       "      <td>4.333333</td>\n",
       "      <td>1.154701</td>\n",
       "      <td>13.666667</td>\n",
       "      <td>NaN</td>\n",
       "      <td>NaN</td>\n",
       "      <td>0.0</td>\n",
       "      <td>318.0</td>\n",
       "    </tr>\n",
       "    <tr>\n",
       "      <th>01-04</th>\n",
       "      <td>4</td>\n",
       "      <td>1</td>\n",
       "      <td>4</td>\n",
       "      <td>20</td>\n",
       "      <td>4.001593</td>\n",
       "      <td>70.207219</td>\n",
       "      <td>3.403430</td>\n",
       "      <td>5.250000</td>\n",
       "      <td>2.500000</td>\n",
       "      <td>19.750000</td>\n",
       "      <td>NaN</td>\n",
       "      <td>1.0</td>\n",
       "      <td>0.0</td>\n",
       "      <td>318.0</td>\n",
       "    </tr>\n",
       "    <tr>\n",
       "      <th>01-05</th>\n",
       "      <td>4</td>\n",
       "      <td>1</td>\n",
       "      <td>5</td>\n",
       "      <td>25</td>\n",
       "      <td>2.802409</td>\n",
       "      <td>65.267806</td>\n",
       "      <td>1.732051</td>\n",
       "      <td>7.500000</td>\n",
       "      <td>3.403430</td>\n",
       "      <td>26.250000</td>\n",
       "      <td>NaN</td>\n",
       "      <td>1.0</td>\n",
       "      <td>0.0</td>\n",
       "      <td>318.0</td>\n",
       "    </tr>\n",
       "    <tr>\n",
       "      <th>01-06</th>\n",
       "      <td>4</td>\n",
       "      <td>1</td>\n",
       "      <td>6</td>\n",
       "      <td>31</td>\n",
       "      <td>3.068573</td>\n",
       "      <td>64.561708</td>\n",
       "      <td>0.957427</td>\n",
       "      <td>9.250000</td>\n",
       "      <td>3.095696</td>\n",
       "      <td>28.250000</td>\n",
       "      <td>0.000000</td>\n",
       "      <td>1.0</td>\n",
       "      <td>0.0</td>\n",
       "      <td>318.0</td>\n",
       "    </tr>\n",
       "    <tr>\n",
       "      <th>01-07</th>\n",
       "      <td>4</td>\n",
       "      <td>1</td>\n",
       "      <td>7</td>\n",
       "      <td>40</td>\n",
       "      <td>2.454961</td>\n",
       "      <td>62.669426</td>\n",
       "      <td>2.160247</td>\n",
       "      <td>10.000000</td>\n",
       "      <td>5.123475</td>\n",
       "      <td>35.750000</td>\n",
       "      <td>NaN</td>\n",
       "      <td>1.0</td>\n",
       "      <td>0.0</td>\n",
       "      <td>318.0</td>\n",
       "    </tr>\n",
       "    <tr>\n",
       "      <th>03-01</th>\n",
       "      <td>4</td>\n",
       "      <td>3</td>\n",
       "      <td>1</td>\n",
       "      <td>5</td>\n",
       "      <td>0.503411</td>\n",
       "      <td>82.107917</td>\n",
       "      <td>0.000000</td>\n",
       "      <td>2.000000</td>\n",
       "      <td>2.753785</td>\n",
       "      <td>4.750000</td>\n",
       "      <td>NaN</td>\n",
       "      <td>NaN</td>\n",
       "      <td>0.0</td>\n",
       "      <td>318.0</td>\n",
       "    </tr>\n",
       "    <tr>\n",
       "      <th>03-02</th>\n",
       "      <td>4</td>\n",
       "      <td>3</td>\n",
       "      <td>2</td>\n",
       "      <td>19</td>\n",
       "      <td>2.479869</td>\n",
       "      <td>70.254887</td>\n",
       "      <td>2.943920</td>\n",
       "      <td>6.000000</td>\n",
       "      <td>5.560276</td>\n",
       "      <td>17.750000</td>\n",
       "      <td>NaN</td>\n",
       "      <td>NaN</td>\n",
       "      <td>0.0</td>\n",
       "      <td>318.0</td>\n",
       "    </tr>\n",
       "    <tr>\n",
       "      <th>03-03</th>\n",
       "      <td>4</td>\n",
       "      <td>3</td>\n",
       "      <td>3</td>\n",
       "      <td>26</td>\n",
       "      <td>6.640756</td>\n",
       "      <td>66.323141</td>\n",
       "      <td>4.573474</td>\n",
       "      <td>8.750000</td>\n",
       "      <td>1.707825</td>\n",
       "      <td>21.250000</td>\n",
       "      <td>0.000000</td>\n",
       "      <td>1.0</td>\n",
       "      <td>0.0</td>\n",
       "      <td>318.0</td>\n",
       "    </tr>\n",
       "    <tr>\n",
       "      <th>03-04</th>\n",
       "      <td>4</td>\n",
       "      <td>3</td>\n",
       "      <td>4</td>\n",
       "      <td>28</td>\n",
       "      <td>6.990662</td>\n",
       "      <td>67.893865</td>\n",
       "      <td>4.924429</td>\n",
       "      <td>7.750000</td>\n",
       "      <td>1.414214</td>\n",
       "      <td>21.000000</td>\n",
       "      <td>0.000000</td>\n",
       "      <td>1.0</td>\n",
       "      <td>0.0</td>\n",
       "      <td>318.0</td>\n",
       "    </tr>\n",
       "    <tr>\n",
       "      <th>03-05</th>\n",
       "      <td>4</td>\n",
       "      <td>3</td>\n",
       "      <td>5</td>\n",
       "      <td>34</td>\n",
       "      <td>4.505766</td>\n",
       "      <td>62.819313</td>\n",
       "      <td>4.509250</td>\n",
       "      <td>7.500000</td>\n",
       "      <td>12.311918</td>\n",
       "      <td>29.250000</td>\n",
       "      <td>0.577350</td>\n",
       "      <td>1.5</td>\n",
       "      <td>0.0</td>\n",
       "      <td>318.0</td>\n",
       "    </tr>\n",
       "    <tr>\n",
       "      <th>03-06</th>\n",
       "      <td>4</td>\n",
       "      <td>3</td>\n",
       "      <td>6</td>\n",
       "      <td>40</td>\n",
       "      <td>2.586030</td>\n",
       "      <td>66.807928</td>\n",
       "      <td>2.943920</td>\n",
       "      <td>8.000000</td>\n",
       "      <td>8.883505</td>\n",
       "      <td>34.250000</td>\n",
       "      <td>0.000000</td>\n",
       "      <td>1.0</td>\n",
       "      <td>0.0</td>\n",
       "      <td>318.0</td>\n",
       "    </tr>\n",
       "    <tr>\n",
       "      <th>03-07</th>\n",
       "      <td>7</td>\n",
       "      <td>3</td>\n",
       "      <td>7</td>\n",
       "      <td>49</td>\n",
       "      <td>2.666364</td>\n",
       "      <td>58.299511</td>\n",
       "      <td>2.225395</td>\n",
       "      <td>8.428571</td>\n",
       "      <td>7.967195</td>\n",
       "      <td>35.142857</td>\n",
       "      <td>0.894427</td>\n",
       "      <td>1.6</td>\n",
       "      <td>0.0</td>\n",
       "      <td>318.0</td>\n",
       "    </tr>\n",
       "    <tr>\n",
       "      <th>05-01</th>\n",
       "      <td>4</td>\n",
       "      <td>5</td>\n",
       "      <td>1</td>\n",
       "      <td>11</td>\n",
       "      <td>4.179874</td>\n",
       "      <td>79.542669</td>\n",
       "      <td>1.892969</td>\n",
       "      <td>3.250000</td>\n",
       "      <td>2.645751</td>\n",
       "      <td>9.500000</td>\n",
       "      <td>0.000000</td>\n",
       "      <td>1.0</td>\n",
       "      <td>0.0</td>\n",
       "      <td>318.0</td>\n",
       "    </tr>\n",
       "    <tr>\n",
       "      <th>05-02</th>\n",
       "      <td>4</td>\n",
       "      <td>5</td>\n",
       "      <td>2</td>\n",
       "      <td>16</td>\n",
       "      <td>1.968539</td>\n",
       "      <td>72.614709</td>\n",
       "      <td>1.825742</td>\n",
       "      <td>10.000000</td>\n",
       "      <td>4.434712</td>\n",
       "      <td>18.500000</td>\n",
       "      <td>0.707107</td>\n",
       "      <td>1.5</td>\n",
       "      <td>0.0</td>\n",
       "      <td>318.0</td>\n",
       "    </tr>\n",
       "    <tr>\n",
       "      <th>05-03</th>\n",
       "      <td>4</td>\n",
       "      <td>5</td>\n",
       "      <td>3</td>\n",
       "      <td>21</td>\n",
       "      <td>4.830638</td>\n",
       "      <td>71.136283</td>\n",
       "      <td>1.707825</td>\n",
       "      <td>7.250000</td>\n",
       "      <td>2.828427</td>\n",
       "      <td>19.000000</td>\n",
       "      <td>NaN</td>\n",
       "      <td>1.0</td>\n",
       "      <td>0.0</td>\n",
       "      <td>318.0</td>\n",
       "    </tr>\n",
       "    <tr>\n",
       "      <th>05-04</th>\n",
       "      <td>4</td>\n",
       "      <td>5</td>\n",
       "      <td>4</td>\n",
       "      <td>23</td>\n",
       "      <td>5.051717</td>\n",
       "      <td>73.612972</td>\n",
       "      <td>1.258306</td>\n",
       "      <td>7.250000</td>\n",
       "      <td>4.898979</td>\n",
       "      <td>20.000000</td>\n",
       "      <td>NaN</td>\n",
       "      <td>1.0</td>\n",
       "      <td>0.0</td>\n",
       "      <td>318.0</td>\n",
       "    </tr>\n",
       "    <tr>\n",
       "      <th>05-05</th>\n",
       "      <td>3</td>\n",
       "      <td>5</td>\n",
       "      <td>5</td>\n",
       "      <td>28</td>\n",
       "      <td>1.892164</td>\n",
       "      <td>59.461666</td>\n",
       "      <td>2.000000</td>\n",
       "      <td>8.000000</td>\n",
       "      <td>1.732051</td>\n",
       "      <td>31.000000</td>\n",
       "      <td>0.000000</td>\n",
       "      <td>1.0</td>\n",
       "      <td>0.0</td>\n",
       "      <td>318.0</td>\n",
       "    </tr>\n",
       "    <tr>\n",
       "      <th>05-06</th>\n",
       "      <td>4</td>\n",
       "      <td>5</td>\n",
       "      <td>6</td>\n",
       "      <td>34</td>\n",
       "      <td>3.805866</td>\n",
       "      <td>62.951005</td>\n",
       "      <td>4.856267</td>\n",
       "      <td>11.750000</td>\n",
       "      <td>1.632993</td>\n",
       "      <td>33.000000</td>\n",
       "      <td>0.000000</td>\n",
       "      <td>1.0</td>\n",
       "      <td>0.0</td>\n",
       "      <td>318.0</td>\n",
       "    </tr>\n",
       "    <tr>\n",
       "      <th>05-07</th>\n",
       "      <td>7</td>\n",
       "      <td>5</td>\n",
       "      <td>7</td>\n",
       "      <td>43</td>\n",
       "      <td>1.877327</td>\n",
       "      <td>61.308703</td>\n",
       "      <td>4.041452</td>\n",
       "      <td>12.000000</td>\n",
       "      <td>8.202787</td>\n",
       "      <td>37.571429</td>\n",
       "      <td>1.732051</td>\n",
       "      <td>2.0</td>\n",
       "      <td>0.0</td>\n",
       "      <td>318.0</td>\n",
       "    </tr>\n",
       "    <tr>\n",
       "      <th>C321_I4</th>\n",
       "      <td>3</td>\n",
       "      <td>0</td>\n",
       "      <td>0</td>\n",
       "      <td>0</td>\n",
       "      <td>2.402853</td>\n",
       "      <td>87.006543</td>\n",
       "      <td>NaN</td>\n",
       "      <td>NaN</td>\n",
       "      <td>0.577350</td>\n",
       "      <td>2.333333</td>\n",
       "      <td>NaN</td>\n",
       "      <td>NaN</td>\n",
       "      <td>0.0</td>\n",
       "      <td>318.0</td>\n",
       "    </tr>\n",
       "  </tbody>\n",
       "</table>\n",
       "</div>"
      ],
      "text/plain": [
       "        sample lineage time_point actual_mage_cycle doubling_time             \\\n",
       "         count   first      first             first         stdev       mean   \n",
       "sample                                                                         \n",
       "01-01        4       1          1                 5      3.052262  75.829808   \n",
       "01-02        3       1          2                14      2.871387  71.789395   \n",
       "01-03        3       1          3                18      3.999653  73.915334   \n",
       "01-04        4       1          4                20      4.001593  70.207219   \n",
       "01-05        4       1          5                25      2.802409  65.267806   \n",
       "01-06        4       1          6                31      3.068573  64.561708   \n",
       "01-07        4       1          7                40      2.454961  62.669426   \n",
       "03-01        4       3          1                 5      0.503411  82.107917   \n",
       "03-02        4       3          2                19      2.479869  70.254887   \n",
       "03-03        4       3          3                26      6.640756  66.323141   \n",
       "03-04        4       3          4                28      6.990662  67.893865   \n",
       "03-05        4       3          5                34      4.505766  62.819313   \n",
       "03-06        4       3          6                40      2.586030  66.807928   \n",
       "03-07        7       3          7                49      2.666364  58.299511   \n",
       "05-01        4       5          1                11      4.179874  79.542669   \n",
       "05-02        4       5          2                16      1.968539  72.614709   \n",
       "05-03        4       5          3                21      4.830638  71.136283   \n",
       "05-04        4       5          4                23      5.051717  73.612972   \n",
       "05-05        3       5          5                28      1.892164  59.461666   \n",
       "05-06        4       5          6                34      3.805866  62.951005   \n",
       "05-07        7       5          7                43      1.877327  61.308703   \n",
       "C321_I4      3       0          0                 0      2.402853  87.006543   \n",
       "\n",
       "            FIXED               DE_NOVO            UNTARGETED_REVERSION       \\\n",
       "            stdev       mean      stdev       mean                stdev mean   \n",
       "sample                                                                         \n",
       "01-01    0.000000   1.000000   2.081666   3.666667                  NaN  NaN   \n",
       "01-02    0.577350   2.333333   2.516611   9.333333                  NaN  1.0   \n",
       "01-03    3.055050   4.333333   1.154701  13.666667                  NaN  NaN   \n",
       "01-04    3.403430   5.250000   2.500000  19.750000                  NaN  1.0   \n",
       "01-05    1.732051   7.500000   3.403430  26.250000                  NaN  1.0   \n",
       "01-06    0.957427   9.250000   3.095696  28.250000             0.000000  1.0   \n",
       "01-07    2.160247  10.000000   5.123475  35.750000                  NaN  1.0   \n",
       "03-01    0.000000   2.000000   2.753785   4.750000                  NaN  NaN   \n",
       "03-02    2.943920   6.000000   5.560276  17.750000                  NaN  NaN   \n",
       "03-03    4.573474   8.750000   1.707825  21.250000             0.000000  1.0   \n",
       "03-04    4.924429   7.750000   1.414214  21.000000             0.000000  1.0   \n",
       "03-05    4.509250   7.500000  12.311918  29.250000             0.577350  1.5   \n",
       "03-06    2.943920   8.000000   8.883505  34.250000             0.000000  1.0   \n",
       "03-07    2.225395   8.428571   7.967195  35.142857             0.894427  1.6   \n",
       "05-01    1.892969   3.250000   2.645751   9.500000             0.000000  1.0   \n",
       "05-02    1.825742  10.000000   4.434712  18.500000             0.707107  1.5   \n",
       "05-03    1.707825   7.250000   2.828427  19.000000                  NaN  1.0   \n",
       "05-04    1.258306   7.250000   4.898979  20.000000                  NaN  1.0   \n",
       "05-05    2.000000   8.000000   1.732051  31.000000             0.000000  1.0   \n",
       "05-06    4.856267  11.750000   1.632993  33.000000             0.000000  1.0   \n",
       "05-07    4.041452  12.000000   8.202787  37.571429             1.732051  2.0   \n",
       "C321_I4       NaN        NaN   0.577350   2.333333                  NaN  NaN   \n",
       "\n",
       "        AMBER         \n",
       "        stdev   mean  \n",
       "sample                \n",
       "01-01     0.0  318.0  \n",
       "01-02     0.0  318.0  \n",
       "01-03     0.0  318.0  \n",
       "01-04     0.0  318.0  \n",
       "01-05     0.0  318.0  \n",
       "01-06     0.0  318.0  \n",
       "01-07     0.0  318.0  \n",
       "03-01     0.0  318.0  \n",
       "03-02     0.0  318.0  \n",
       "03-03     0.0  318.0  \n",
       "03-04     0.0  318.0  \n",
       "03-05     0.0  318.0  \n",
       "03-06     0.0  318.0  \n",
       "03-07     0.0  318.0  \n",
       "05-01     0.0  318.0  \n",
       "05-02     0.0  318.0  \n",
       "05-03     0.0  318.0  \n",
       "05-04     0.0  318.0  \n",
       "05-05     0.0  318.0  \n",
       "05-06     0.0  318.0  \n",
       "05-07     0.0  318.0  \n",
       "C321_I4   0.0  318.0  "
      ]
     },
     "execution_count": 33,
     "metadata": {},
     "output_type": "execute_result"
    }
   ],
   "source": [
    "aggregate_per_sample_mutation_counts_df = per_clone_mutation_counts_df.groupby('sample').agg({\n",
    "    'sample': {\n",
    "        'count': 'count'\n",
    "    },\n",
    "    'lineage': 'first',\n",
    "    'time_point': 'first',\n",
    "    'actual_mage_cycle': 'first',\n",
    "    'doubling_time': {\n",
    "        'mean': 'mean',\n",
    "        'stdev': 'std'\n",
    "    },\n",
    "    'FIXED': {\n",
    "        'mean': 'mean',\n",
    "        'stdev': 'std'\n",
    "    },\n",
    "    'DE_NOVO': {\n",
    "        'mean': 'mean',\n",
    "        'stdev': 'std'\n",
    "    },\n",
    "    'UNTARGETED_REVERSION': {\n",
    "        'mean': 'mean',\n",
    "        'stdev': 'std'\n",
    "    },\n",
    "    'AMBER': {\n",
    "        'mean': 'mean',\n",
    "        'stdev': 'std'\n",
    "    },\n",
    "})[['sample', 'lineage', 'time_point', 'actual_mage_cycle', 'doubling_time',\n",
    "        'FIXED', 'DE_NOVO', 'UNTARGETED_REVERSION', 'AMBER']]\n",
    "\n",
    "aggregate_per_sample_mutation_counts_df"
   ]
  },
  {
   "cell_type": "markdown",
   "metadata": {
    "deletable": true,
    "editable": true
   },
   "source": [
    "Plot mutations vs time for each lineage."
   ]
  },
  {
   "cell_type": "code",
   "execution_count": 34,
   "metadata": {
    "collapsed": false,
    "deletable": true,
    "editable": true
   },
   "outputs": [
    {
     "data": {
      "image/png": "[encoded data removed]",
      "text/plain": [
       "<matplotlib.figure.Figure at 0x10b4b4b50>"
      ]
     },
     "metadata": {},
     "output_type": "display_data"
    },
    {
     "data": {
      "image/png": "[encoded data removed]",
      "text/plain": [
       "<matplotlib.figure.Figure at 0x10b4b4ad0>"
      ]
     },
     "metadata": {},
     "output_type": "display_data"
    },
    {
     "data": {
      "image/png": "[encoded data removed]",
      "text/plain": [
       "<matplotlib.figure.Figure at 0x10b164910>"
      ]
     },
     "metadata": {},
     "output_type": "display_data"
    },
    {
     "data": {
      "image/png": "[encoded data removed]",
      "text/plain": [
       "<matplotlib.figure.Figure at 0x10b34b690>"
      ]
     },
     "metadata": {},
     "output_type": "display_data"
    },
    {
     "data": {
      "image/png": "[encoded data removed]",
      "text/plain": [
       "<matplotlib.figure.Figure at 0x10b0f2450>"
      ]
     },
     "metadata": {},
     "output_type": "display_data"
    }
   ],
   "source": [
    "LINEAGES = [1, 3, 5]\n",
    "\n",
    "TIME_POINTS = sorted(list(set(experiment_metadata_df['time_point'])))\n",
    "\n",
    "LINE_STYLES = ['bo-', 'go-', 'ro-']\n",
    "\n",
    "LINEAGE_NAMES = ['pool 1', 'pool 3', 'pool 5']\n",
    "\n",
    "\n",
    "def get_mutation_count_timeseries(lineage, mutation_type):\n",
    "    mage_cycle_list = []\n",
    "    mean_list = []\n",
    "    std_list = []\n",
    "    for time_point in TIME_POINTS:\n",
    "        if time_point == 0:\n",
    "            if mutation_type == 'doubling_time':\n",
    "                mage_cycle_list.append(0)\n",
    "                mean_list.append(C321_I4_DT)\n",
    "                std_list.append(0)\n",
    "            else:\n",
    "                mage_cycle_list.append(0)\n",
    "                mean_list.append(0)\n",
    "                std_list.append(0)\n",
    "            continue\n",
    "        time_point_match = aggregate_per_sample_mutation_counts_df[\n",
    "            (aggregate_per_sample_mutation_counts_df['time_point']['first'] == time_point) &\n",
    "            (aggregate_per_sample_mutation_counts_df['lineage']['first'] == lineage)\n",
    "        ]\n",
    "        mage_cycle_list.append(time_point_match['actual_mage_cycle'].values[0])\n",
    "        mean_list.append(time_point_match[mutation_type]['mean'].values[0])\n",
    "        std_list.append(time_point_match[mutation_type]['stdev'].values[0])\n",
    "    return mage_cycle_list, mean_list, std_list\n",
    "\n",
    "\n",
    "def plot_lineage(lineage, mutation_type, line_style):\n",
    "    \"\"\"Plot a single lineage.\n",
    "    \"\"\"\n",
    "    mage_cycle_list, mean_list, std_list = get_mutation_count_timeseries(\n",
    "            lineage, mutation_type)\n",
    "    return plt.errorbar(\n",
    "            mage_cycle_list, mean_list, yerr=std_list)\n",
    "    \n",
    "\n",
    "def plot_lineage_comparison(\n",
    "        title, mutation_type, ylabel='Number of SNVs'):\n",
    "    \"\"\"Plots the 3 lineages together.\n",
    "    \"\"\"\n",
    "    plt.figure()\n",
    "\n",
    "    lineage_plots = []\n",
    "    for lineage, line_style in zip(LINEAGES, LINE_STYLES):\n",
    "        lineage_plots.append(plot_lineage(lineage, mutation_type, line_style)[0])\n",
    "    \n",
    "    plt.title(title)\n",
    "    plt.xlabel('MAGE Cycles')\n",
    "    plt.ylabel(ylabel)\n",
    "    plt.legend(lineage_plots, LINEAGE_NAMES, numpoints=1, loc=2)\n",
    "    \n",
    "plot_lineage_comparison('Fixed mutations vs time', MUTATION_TYPE__FIXED)\n",
    "plot_lineage_comparison('De novo mutations vs time', MUTATION_TYPE__DE_NOVO)\n",
    "plot_lineage_comparison('Untargeted reversions vs time', MUTATION_TYPE__UNTARGETED_REVERSION)\n",
    "plot_lineage_comparison('Ambers vs time', MUTATION_TYPE__AMBER)\n",
    "plot_lineage_comparison('Doubling time vs timepoint', 'doubling_time', ylabel='Doubling time (min)')"
   ]
  },
  {
   "cell_type": "markdown",
   "metadata": {
    "deletable": true,
    "editable": true
   },
   "source": [
    "Plot individual counts, not averages."
   ]
  },
  {
   "cell_type": "code",
   "execution_count": 35,
   "metadata": {
    "collapsed": false,
    "deletable": true,
    "editable": true
   },
   "outputs": [],
   "source": [
    "# We will still separate by lineage to give us\n",
    "# the option of coloring the points differently.\n",
    "\n",
    "def get_lineage_timeseries(lineage=None):\n",
    "    mage_cycle_ordered_list = []\n",
    "    doubling_time_ordered_list = []\n",
    "    lineage_data_df = per_clone_mutation_counts_df[\n",
    "            per_clone_mutation_counts_df['lineage'] == lineage]\n",
    "    return {\n",
    "        'mage_cycle_ordered_list': np.array(lineage_data_df['actual_mage_cycle']),\n",
    "        'doubling_time_ordered_list': np.array(lineage_data_df['doubling_time']),\n",
    "        'fixed_mutation_ordered_list': np.array(lineage_data_df[MUTATION_TYPE__FIXED]),\n",
    "        'de_novo_mutation_ordered_list': np.array(lineage_data_df[MUTATION_TYPE__DE_NOVO]),\n",
    "        'de_novo_to_fixed_ratio': np.array(lineage_data_df['DE_NOVO_to_FIXED_ratio'])\n",
    "    }\n",
    "\n",
    "lineage_0_data = get_lineage_timeseries(0)\n",
    "lineage_1_data = get_lineage_timeseries(1)    \n",
    "lineage_3_data = get_lineage_timeseries(3) \n",
    "lineage_5_data = get_lineage_timeseries(5) "
   ]
  },
  {
   "cell_type": "markdown",
   "metadata": {
    "deletable": true,
    "editable": true
   },
   "source": [
    "Plot doubling times."
   ]
  },
  {
   "cell_type": "code",
   "execution_count": 36,
   "metadata": {
    "collapsed": false,
    "deletable": true,
    "editable": true
   },
   "outputs": [
    {
     "data": {
      "image/png": "[encoded data removed]",
      "text/plain": [
       "<matplotlib.figure.Figure at 0x10b497cd0>"
      ]
     },
     "metadata": {},
     "output_type": "display_data"
    }
   ],
   "source": [
    "plt.figure()\n",
    "\n",
    "plt.plot(\n",
    "        lineage_1_data['mage_cycle_ordered_list'],\n",
    "        lineage_1_data['doubling_time_ordered_list'],\n",
    "        '.')\n",
    "\n",
    "plt.plot(\n",
    "        lineage_3_data['mage_cycle_ordered_list'],\n",
    "        lineage_3_data['doubling_time_ordered_list'],\n",
    "        'o')\n",
    "\n",
    "plt.plot(\n",
    "        lineage_5_data['mage_cycle_ordered_list'],\n",
    "        lineage_5_data['doubling_time_ordered_list'],\n",
    "        'x')\n",
    "plt.plot(\n",
    "        lineage_0_data['mage_cycle_ordered_list'],\n",
    "        lineage_0_data['doubling_time_ordered_list'],\n",
    "        '.')\n",
    "\n",
    "# Plot mean.\n",
    "# Grab all mage cycles and means.\n",
    "# Lack of pandas skillz makes me do it the brute force way for now.\n",
    "data_obj_list = []\n",
    "for idx, row in aggregate_per_sample_mutation_counts_df.iterrows():\n",
    "    x = row\n",
    "    data_obj_list.append({\n",
    "        'lineage': x['lineage']['first'],\n",
    "        'actual_mage_cycle': x['actual_mage_cycle']['first'],\n",
    "        'doubling_time_mean': row['doubling_time']['mean'],\n",
    "        'doubling_time_stdev': row['doubling_time']['stdev']\n",
    "    })\n",
    "mean_doubling_times_df = pd.DataFrame(data_obj_list)\n",
    "mean_doubling_times_df.sort_values('actual_mage_cycle', inplace=True)\n",
    "\n",
    "# Plot mean.\n",
    "plt.plot(\n",
    "        mean_doubling_times_df['actual_mage_cycle'],\n",
    "        mean_doubling_times_df['doubling_time_mean'], 'b')\n",
    "\n",
    "# # Plot stdev above and below.\n",
    "# stdev_above = (\n",
    "#         mean_doubling_times_df['doubling_time_mean'] +\n",
    "#         mean_doubling_times_df['doubling_time_stdev'])\n",
    "# plt.plot(\n",
    "#         mean_doubling_times_df['actual_mage_cycle'],\n",
    "#         stdev_above)\n",
    "# stdev_below = (\n",
    "#         mean_doubling_times_df['doubling_time_mean'] -\n",
    "#         mean_doubling_times_df['doubling_time_stdev'])\n",
    "# plt.plot(\n",
    "#         mean_doubling_times_df['actual_mage_cycle'],\n",
    "#         stdev_below)\n",
    "\n",
    "# plt.axhline(y=C321_FIX_DT)\n",
    "\n",
    "plt.title('Doubling time vs MAGE Cycle')\n",
    "plt.xlabel('MAGE Cycle')\n",
    "plt.ylabel('Doubling Time')\n",
    "plt.xlim([0, 50])\n",
    "plt.show()"
   ]
  },
  {
   "cell_type": "markdown",
   "metadata": {
    "deletable": true,
    "editable": true
   },
   "source": [
    "Similarly, plot individual mutation counts rather than averages."
   ]
  },
  {
   "cell_type": "code",
   "execution_count": 37,
   "metadata": {
    "collapsed": true,
    "deletable": true,
    "editable": true
   },
   "outputs": [],
   "source": [
    "def plot_mutation_list(lineage_data, mutation_key, style):\n",
    "    plt.plot(\n",
    "            lineage_data['mage_cycle_ordered_list'],\n",
    "            lineage_data[mutation_key],\n",
    "            style)"
   ]
  },
  {
   "cell_type": "markdown",
   "metadata": {
    "deletable": true,
    "editable": true
   },
   "source": [
    "Fixed mutations."
   ]
  },
  {
   "cell_type": "code",
   "execution_count": 38,
   "metadata": {
    "collapsed": false,
    "deletable": true,
    "editable": true
   },
   "outputs": [
    {
     "data": {
      "image/png": "[encoded data removed]",
      "text/plain": [
       "<matplotlib.figure.Figure at 0x10b423fd0>"
      ]
     },
     "metadata": {},
     "output_type": "display_data"
    }
   ],
   "source": [
    "plt.figure()\n",
    "plot_mutation_list(lineage_1_data, 'fixed_mutation_ordered_list', '.')\n",
    "plot_mutation_list(lineage_3_data, 'fixed_mutation_ordered_list', 'o')\n",
    "plot_mutation_list(lineage_5_data, 'fixed_mutation_ordered_list', 'x')\n",
    "# plot_mutation_list(lineage_0_data, 'fixed_mutation_ordered_list', '.')\n",
    "# plt.title('Fixed mutations vs MAGE Cycle')\n",
    "plt.xlabel('MAGE cycle')\n",
    "plt.ylabel('Number of fixed mutations')\n",
    "\n",
    "ax = plt.axes()\n",
    "ax.set_xlim([0, 55])\n",
    "ax.spines['top'].set_visible(False)\n",
    "ax.spines['right'].set_visible(False)\n",
    "ax.get_xaxis().tick_bottom()\n",
    "ax.get_yaxis().tick_left()\n",
    "\n",
    "plt.show()"
   ]
  },
  {
   "cell_type": "markdown",
   "metadata": {
    "deletable": true,
    "editable": true
   },
   "source": [
    "De novo mutations."
   ]
  },
  {
   "cell_type": "code",
   "execution_count": 39,
   "metadata": {
    "collapsed": false,
    "deletable": true,
    "editable": true
   },
   "outputs": [
    {
     "data": {
      "image/png": "[encoded data removed]",
      "text/plain": [
       "<matplotlib.figure.Figure at 0x10b40b510>"
      ]
     },
     "metadata": {},
     "output_type": "display_data"
    }
   ],
   "source": [
    "plt.figure()\n",
    "plot_mutation_list(lineage_1_data, 'de_novo_mutation_ordered_list', '.')\n",
    "plot_mutation_list(lineage_3_data, 'de_novo_mutation_ordered_list', 'o')\n",
    "plot_mutation_list(lineage_5_data, 'de_novo_mutation_ordered_list', 'x')\n",
    "plot_mutation_list(lineage_0_data, 'de_novo_mutation_ordered_list', '.')\n",
    "\n",
    "plt.title('De novo mutations vs MAGE Cycle')\n",
    "plt.xlabel('MAGE cycle')\n",
    "plt.ylabel('Num de novo mutations')\n",
    "plt.show()"
   ]
  },
  {
   "cell_type": "markdown",
   "metadata": {
    "deletable": true,
    "editable": true
   },
   "source": [
    "Curiously we see some clones with relatively few de novo mutations and others with many."
   ]
  },
  {
   "cell_type": "code",
   "execution_count": 40,
   "metadata": {
    "collapsed": false,
    "deletable": true,
    "editable": true
   },
   "outputs": [
    {
     "data": {
      "image/png": "[encoded data removed]",
      "text/plain": [
       "<matplotlib.figure.Figure at 0x10b423350>"
      ]
     },
     "metadata": {},
     "output_type": "display_data"
    }
   ],
   "source": [
    "plt.figure()\n",
    "per_clone_mutation_counts_df['doubling_time'].hist()\n",
    "plt.title('Distribution of doubling times from 50-cycle MAGE Experiment')\n",
    "plt.xlabel('Doubling time / min')\n",
    "plt.ylabel('freq')\n",
    "plt.show()"
   ]
  },
  {
   "cell_type": "code",
   "execution_count": 41,
   "metadata": {
    "collapsed": false,
    "deletable": true,
    "editable": true
   },
   "outputs": [
    {
     "data": {
      "image/png": "[encoded data removed]",
      "text/plain": [
       "<matplotlib.figure.Figure at 0x10b092e90>"
      ]
     },
     "metadata": {},
     "output_type": "display_data"
    }
   ],
   "source": [
    "plt.figure()\n",
    "per_clone_mutation_counts_df[MUTATION_TYPE__FIXED].hist()\n",
    "plt.title('Distribution of FIXED mutations from 50-cycle MAGE Experiment')\n",
    "plt.xlabel('Number of FIXED mutations')\n",
    "plt.ylabel('freq')\n",
    "plt.show()"
   ]
  },
  {
   "cell_type": "code",
   "execution_count": 42,
   "metadata": {
    "collapsed": false,
    "deletable": true,
    "editable": true
   },
   "outputs": [
    {
     "data": {
      "image/png": "[encoded data removed]",
      "text/plain": [
       "<matplotlib.figure.Figure at 0x12915ab10>"
      ]
     },
     "metadata": {},
     "output_type": "display_data"
    }
   ],
   "source": [
    "plt.figure()\n",
    "per_clone_mutation_counts_df[\n",
    "        per_clone_mutation_counts_df['actual_mage_cycle'] > 0][\n",
    "                'FIXED_per_MAGE_cycle'].hist()\n",
    "plt.title('Distribution of FIXED mutations per MAGE cycle')\n",
    "plt.xlabel('Num FIXED / num mage cycles')\n",
    "plt.ylabel('freq')\n",
    "plt.show()"
   ]
  },
  {
   "cell_type": "markdown",
   "metadata": {
    "deletable": true,
    "editable": true
   },
   "source": [
    "What are doubling times of clones with most FIXED mutations?"
   ]
  },
  {
   "cell_type": "code",
   "execution_count": 43,
   "metadata": {
    "collapsed": false,
    "deletable": true,
    "editable": true
   },
   "outputs": [
    {
     "data": {
      "text/html": [
       "<div>\n",
       "<table border=\"1\" class=\"dataframe\">\n",
       "  <thead>\n",
       "    <tr style=\"text-align: right;\">\n",
       "      <th></th>\n",
       "      <th>pos</th>\n",
       "      <th>BARCODE</th>\n",
       "      <th>sample</th>\n",
       "      <th>doubling_time</th>\n",
       "      <th>lineage</th>\n",
       "      <th>time_point</th>\n",
       "      <th>actual_mage_cycle</th>\n",
       "      <th>AMBER</th>\n",
       "      <th>DE_NOVO</th>\n",
       "      <th>FIXED</th>\n",
       "      <th>NONE</th>\n",
       "      <th>UNTARGETED_REVERSION</th>\n",
       "      <th>ORIG_HET_COUNT</th>\n",
       "      <th>UPDATED_HET_COUNT</th>\n",
       "      <th>FIXED_per_MAGE_cycle</th>\n",
       "      <th>DE_NOVO_per_MAGE_cycle</th>\n",
       "      <th>DE_NOVO_to_FIXED_ratio</th>\n",
       "    </tr>\n",
       "  </thead>\n",
       "  <tbody>\n",
       "    <tr>\n",
       "      <th>80</th>\n",
       "      <td>G09</td>\n",
       "      <td>TGAACA</td>\n",
       "      <td>05-06</td>\n",
       "      <td>68.370715</td>\n",
       "      <td>5</td>\n",
       "      <td>6</td>\n",
       "      <td>34</td>\n",
       "      <td>318.0</td>\n",
       "      <td>33.0</td>\n",
       "      <td>19.0</td>\n",
       "      <td>1878.0</td>\n",
       "      <td>NaN</td>\n",
       "      <td>20</td>\n",
       "      <td>14</td>\n",
       "      <td>0.558824</td>\n",
       "      <td>0.970588</td>\n",
       "      <td>1.736842</td>\n",
       "    </tr>\n",
       "    <tr>\n",
       "      <th>83</th>\n",
       "      <td>G12</td>\n",
       "      <td>AGGATA</td>\n",
       "      <td>05-07</td>\n",
       "      <td>63.150454</td>\n",
       "      <td>5</td>\n",
       "      <td>7</td>\n",
       "      <td>43</td>\n",
       "      <td>318.0</td>\n",
       "      <td>25.0</td>\n",
       "      <td>15.0</td>\n",
       "      <td>1891.0</td>\n",
       "      <td>NaN</td>\n",
       "      <td>22</td>\n",
       "      <td>12</td>\n",
       "      <td>0.348837</td>\n",
       "      <td>0.581395</td>\n",
       "      <td>1.666667</td>\n",
       "    </tr>\n",
       "    <tr>\n",
       "      <th>76</th>\n",
       "      <td>G05</td>\n",
       "      <td>TACTCA</td>\n",
       "      <td>03-04</td>\n",
       "      <td>65.921636</td>\n",
       "      <td>3</td>\n",
       "      <td>4</td>\n",
       "      <td>28</td>\n",
       "      <td>318.0</td>\n",
       "      <td>21.0</td>\n",
       "      <td>15.0</td>\n",
       "      <td>1893.0</td>\n",
       "      <td>1.0</td>\n",
       "      <td>12</td>\n",
       "      <td>10</td>\n",
       "      <td>0.535714</td>\n",
       "      <td>0.750000</td>\n",
       "      <td>1.400000</td>\n",
       "    </tr>\n",
       "    <tr>\n",
       "      <th>23</th>\n",
       "      <td>B12</td>\n",
       "      <td>CCGTGA</td>\n",
       "      <td>05-07</td>\n",
       "      <td>60.662941</td>\n",
       "      <td>5</td>\n",
       "      <td>7</td>\n",
       "      <td>43</td>\n",
       "      <td>318.0</td>\n",
       "      <td>44.0</td>\n",
       "      <td>15.0</td>\n",
       "      <td>1867.0</td>\n",
       "      <td>4.0</td>\n",
       "      <td>23</td>\n",
       "      <td>14</td>\n",
       "      <td>0.348837</td>\n",
       "      <td>1.023256</td>\n",
       "      <td>2.933333</td>\n",
       "    </tr>\n",
       "    <tr>\n",
       "      <th>47</th>\n",
       "      <td>D12</td>\n",
       "      <td>GAATGC</td>\n",
       "      <td>05-07</td>\n",
       "      <td>64.540241</td>\n",
       "      <td>5</td>\n",
       "      <td>7</td>\n",
       "      <td>43</td>\n",
       "      <td>318.0</td>\n",
       "      <td>43.0</td>\n",
       "      <td>15.0</td>\n",
       "      <td>1871.0</td>\n",
       "      <td>1.0</td>\n",
       "      <td>23</td>\n",
       "      <td>11</td>\n",
       "      <td>0.348837</td>\n",
       "      <td>1.000000</td>\n",
       "      <td>2.866667</td>\n",
       "    </tr>\n",
       "  </tbody>\n",
       "</table>\n",
       "</div>"
      ],
      "text/plain": [
       "    pos BARCODE sample  doubling_time  lineage  time_point  actual_mage_cycle  \\\n",
       "80  G09  TGAACA  05-06      68.370715        5           6                 34   \n",
       "83  G12  AGGATA  05-07      63.150454        5           7                 43   \n",
       "76  G05  TACTCA  03-04      65.921636        3           4                 28   \n",
       "23  B12  CCGTGA  05-07      60.662941        5           7                 43   \n",
       "47  D12  GAATGC  05-07      64.540241        5           7                 43   \n",
       "\n",
       "    AMBER  DE_NOVO  FIXED    NONE  UNTARGETED_REVERSION  ORIG_HET_COUNT  \\\n",
       "80  318.0     33.0   19.0  1878.0                   NaN              20   \n",
       "83  318.0     25.0   15.0  1891.0                   NaN              22   \n",
       "76  318.0     21.0   15.0  1893.0                   1.0              12   \n",
       "23  318.0     44.0   15.0  1867.0                   4.0              23   \n",
       "47  318.0     43.0   15.0  1871.0                   1.0              23   \n",
       "\n",
       "    UPDATED_HET_COUNT  FIXED_per_MAGE_cycle  DE_NOVO_per_MAGE_cycle  \\\n",
       "80                 14              0.558824                0.970588   \n",
       "83                 12              0.348837                0.581395   \n",
       "76                 10              0.535714                0.750000   \n",
       "23                 14              0.348837                1.023256   \n",
       "47                 11              0.348837                1.000000   \n",
       "\n",
       "    DE_NOVO_to_FIXED_ratio  \n",
       "80                1.736842  \n",
       "83                1.666667  \n",
       "76                1.400000  \n",
       "23                2.933333  \n",
       "47                2.866667  "
      ]
     },
     "execution_count": 43,
     "metadata": {},
     "output_type": "execute_result"
    }
   ],
   "source": [
    "per_clone_mutation_counts_df.sort_values(MUTATION_TYPE__FIXED, ascending=False)[:5]"
   ]
  },
  {
   "cell_type": "code",
   "execution_count": 44,
   "metadata": {
    "collapsed": false,
    "deletable": true,
    "editable": true
   },
   "outputs": [
    {
     "data": {
      "image/png": "[encoded data removed]",
      "text/plain": [
       "<matplotlib.figure.Figure at 0x10a9de7d0>"
      ]
     },
     "metadata": {},
     "output_type": "display_data"
    }
   ],
   "source": [
    "plt.figure()\n",
    "per_clone_mutation_counts_df[MUTATION_TYPE__DE_NOVO].hist()\n",
    "plt.title('Distribution of DE_NOVO mutations from 50-cycle MAGE Experiment')\n",
    "plt.xlabel('Number of DE_NOVO mutations')\n",
    "plt.ylabel('freq')\n",
    "plt.show()"
   ]
  },
  {
   "cell_type": "code",
   "execution_count": 45,
   "metadata": {
    "collapsed": false,
    "deletable": true,
    "editable": true
   },
   "outputs": [
    {
     "data": {
      "image/png": "[encoded data removed]",
      "text/plain": [
       "<matplotlib.figure.Figure at 0x10b40b450>"
      ]
     },
     "metadata": {},
     "output_type": "display_data"
    }
   ],
   "source": [
    "plt.figure()\n",
    "per_clone_mutation_counts_df[\n",
    "        per_clone_mutation_counts_df['actual_mage_cycle'] > 0][\n",
    "                'DE_NOVO_per_MAGE_cycle'].hist()\n",
    "plt.title('Distribution of DE_NOVO per MAGE cycle')\n",
    "plt.xlabel('Num DE_NOVO / num mage cycles')\n",
    "plt.ylabel('freq')\n",
    "plt.show()"
   ]
  },
  {
   "cell_type": "code",
   "execution_count": 46,
   "metadata": {
    "collapsed": false,
    "deletable": true,
    "editable": true
   },
   "outputs": [
    {
     "data": {
      "image/png": "[encoded data removed]",
      "text/plain": [
       "<matplotlib.figure.Figure at 0x10b332ed0>"
      ]
     },
     "metadata": {},
     "output_type": "display_data"
    }
   ],
   "source": [
    "plt.figure()\n",
    "plot_mutation_list(lineage_1_data, 'de_novo_to_fixed_ratio', '.')\n",
    "plot_mutation_list(lineage_3_data, 'de_novo_to_fixed_ratio', 'o')\n",
    "plot_mutation_list(lineage_5_data, 'de_novo_to_fixed_ratio', 'x')\n",
    "plot_mutation_list(lineage_0_data, 'de_novo_to_fixed_ratio', '.')\n",
    "\n",
    "plt.title('Ratio of de novo mutations to fixed vs MAGE Cycle')\n",
    "plt.xlabel('MAGE cycle')\n",
    "plt.ylabel('Ratio mutations')\n",
    "plt.show()"
   ]
  },
  {
   "cell_type": "code",
   "execution_count": 47,
   "metadata": {
    "collapsed": false,
    "deletable": true,
    "editable": true
   },
   "outputs": [
    {
     "name": "stdout",
     "output_type": "stream",
     "text": [
      "ECNR1_DT (min) 47\n",
      "C321_I4_DT (min) 87.0065433333\n",
      "mean final clone improvement 0.656075928103\n",
      "original_defect 0.851203049645\n",
      "Min improvement fraction 0.532223845383\n",
      "Max improvement fraction 0.813944135638\n"
     ]
    }
   ],
   "source": [
    "print 'ECNR1_DT (min)', ECNR1_DT\n",
    "print 'C321_I4_DT (min)', C321_I4_DT\n",
    "\n",
    "original_defect = float(C321_I4_DT - ECNR1_DT) / ECNR1_DT\n",
    "\n",
    "def get_mean_timepoint_improvement(t):\n",
    "    return aggregate_per_sample_mutation_counts_df['doubling_time']['mean'][\n",
    "            aggregate_per_sample_mutation_counts_df['time_point']['first'] == t].mean()\n",
    "\n",
    "print 'mean final clone improvement', (C321_I4_DT - get_mean_timepoint_improvement(7)) / float(C321_I4_DT - ECNR1_DT)\n",
    "final_clone_doubling_times = (\n",
    "        experiment_metadata_df[\n",
    "                experiment_metadata_df['time_point'] == 7]['doubling_time'])\n",
    "\n",
    "print 'original_defect', original_defect\n",
    "print 'Min improvement fraction', (C321_I4_DT - max(final_clone_doubling_times)) / float(C321_I4_DT - ECNR1_DT)\n",
    "print 'Max improvement fraction', (C321_I4_DT - min(final_clone_doubling_times)) / float(C321_I4_DT - ECNR1_DT)"
   ]
  },
  {
   "cell_type": "markdown",
   "metadata": {
    "deletable": true,
    "editable": true
   },
   "source": [
    "The doubling time graph appears to asymptote around 20 cycles of MAGE. Count how many of the clones have doubling time below some threshold by 20 cycles of MAGE."
   ]
  },
  {
   "cell_type": "markdown",
   "metadata": {
    "deletable": true,
    "editable": true
   },
   "source": [
    "Count how many FIXED mutations observed in each pool."
   ]
  },
  {
   "cell_type": "code",
   "execution_count": 48,
   "metadata": {
    "collapsed": false,
    "deletable": true,
    "editable": true
   },
   "outputs": [
    {
     "name": "stdout",
     "output_type": "stream",
     "text": [
      "All pools 99\n",
      "Pool 1 24\n",
      "Pool 3 58\n",
      "Pool 5 86\n"
     ]
    }
   ],
   "source": [
    "print 'All pools', len(set(melted_variant_data_df[\n",
    "        melted_variant_data_df['MUTATION_TYPE'] == MUTATION_TYPE__FIXED]['POSITION']))\n",
    "\n",
    "print 'Pool 1', len(set(melted_variant_data_df[\n",
    "        (melted_variant_data_df['lineage'] == 1) &\n",
    "        (melted_variant_data_df['MUTATION_TYPE'] == MUTATION_TYPE__FIXED)]['POSITION']))\n",
    "\n",
    "print 'Pool 3', len(set(melted_variant_data_df[\n",
    "        (melted_variant_data_df['lineage'] == 3) &\n",
    "        (melted_variant_data_df['MUTATION_TYPE'] == MUTATION_TYPE__FIXED)]['POSITION']))\n",
    "\n",
    "print 'Pool 5', len(set(melted_variant_data_df[\n",
    "        (melted_variant_data_df['lineage'] == 5) &\n",
    "        (melted_variant_data_df['MUTATION_TYPE'] == MUTATION_TYPE__FIXED)]['POSITION']))"
   ]
  },
  {
   "cell_type": "markdown",
   "metadata": {
    "deletable": true,
    "editable": true
   },
   "source": [
    "Count DE NOVO mutations."
   ]
  },
  {
   "cell_type": "code",
   "execution_count": 49,
   "metadata": {
    "collapsed": false,
    "deletable": true,
    "editable": true
   },
   "outputs": [
    {
     "name": "stdout",
     "output_type": "stream",
     "text": [
      "All pools 1329\n"
     ]
    }
   ],
   "source": [
    "print 'All pools', len(set(melted_variant_data_df[\n",
    "        melted_variant_data_df['MUTATION_TYPE'] == MUTATION_TYPE__DE_NOVO]['POSITION']))\n"
   ]
  },
  {
   "cell_type": "markdown",
   "metadata": {
    "deletable": true,
    "editable": true
   },
   "source": [
    "Export data for making figures in R."
   ]
  },
  {
   "cell_type": "code",
   "execution_count": 50,
   "metadata": {
    "collapsed": true,
    "deletable": true,
    "editable": true
   },
   "outputs": [],
   "source": [
    "melted_variant_data_df[[\n",
    "    'POSITION',\n",
    "    'REF',\n",
    "    'ALT',\n",
    "    'BARCODE',\n",
    "    'GT_TYPE',\n",
    "    'sample',\n",
    "    'doubling_time',\n",
    "    'lineage',\n",
    "    'time_point',\n",
    "    'actual_mage_cycle',\n",
    "    'MUTATION_TYPE',\n",
    "    'signal_relative_to_C321'\n",
    "]].to_csv('outputs/exp_1_data_export_minimal_columns.csv', index=False)"
   ]
  },
  {
   "cell_type": "markdown",
   "metadata": {
    "deletable": true,
    "editable": true
   },
   "source": [
    "## Model Fitting"
   ]
  },
  {
   "cell_type": "markdown",
   "metadata": {
    "deletable": true,
    "editable": true
   },
   "source": [
    "First we define the procedure."
   ]
  },
  {
   "cell_type": "code",
   "execution_count": 51,
   "metadata": {
    "collapsed": false,
    "deletable": true,
    "editable": true
   },
   "outputs": [],
   "source": [
    "def add_annotation_metadata(model_df):\n",
    "    \"\"\"Adds annotations.\n",
    "    \"\"\"\n",
    "    model_with_metadata_df = pd.merge(\n",
    "            model_df,\n",
    "            variant_data_annotated_only_df,\n",
    "            how='inner', # why are some not found?\n",
    "            on=['POSITION']\n",
    "    )\n",
    "    assert len(model_df) == len(model_with_metadata_df)\n",
    "    return model_with_metadata_df\n",
    "\n",
    "\n",
    "def run_linear_modeling(\n",
    "        filtered_variant_data_df,\n",
    "        doubling_time_source_df,\n",
    "        repeats=10,\n",
    "        test_size=20,\n",
    "        l1_ratio_list=[.1, .3, .5, .7, .9, .95, .99, 1],\n",
    "        min_coef_abs_threshold=None,\n",
    "        max_rank_threshold=None,\n",
    "        prune_and_repeat_cycles=1,\n",
    "        doubling_time_key='log_doubling_time'):\n",
    "    \"\"\"Function that runs our linear model technique.\n",
    "    \"\"\"\n",
    "    # At most one of these for now. Could theoretically support both.\n",
    "    assert min_coef_abs_threshold is None or max_rank_threshold is None\n",
    "\n",
    "    # Return all runs of linear modeling for quantification purposes.\n",
    "    lm_results_list = []\n",
    "    \n",
    "    sample_to_snp_occurrence_matrix_gt_type = (\n",
    "            model_fitting.generate_sample_to_signal_pivot_table(\n",
    "                    filtered_variant_data_df))\n",
    "\n",
    "    # Verify that they are sorted by barcode.\n",
    "    index_list = list(sample_to_snp_occurrence_matrix_gt_type.index)\n",
    "    assert index_list == sorted(index_list)\n",
    "    \n",
    "    # Get doubling times, only for included barcodes.\n",
    "    doubling_times = model_fitting.get_doubling_times_array(\n",
    "            doubling_time_source_df,\n",
    "            barcode_filter=sample_to_snp_occurrence_matrix_gt_type.index,\n",
    "            doubling_time_key=doubling_time_key)\n",
    "\n",
    "    # We apply cross-validated ElasticNet in order to fit the parameters alpha and\n",
    "    # l1_ratio, while also identifying the most impactful SNPs. We repeat\n",
    "    # multiple times to get different fits depending on cross/train split.\n",
    "    current_elastic_cv_result = model_fitting.multiple_apply_elastic_net_cv(\n",
    "            sample_to_snp_occurrence_matrix_gt_type,\n",
    "            doubling_times,\n",
    "            add_annotation_metadata,\n",
    "            repeats=repeats,\n",
    "            test_size=test_size,\n",
    "            l1_ratio_list=l1_ratio_list)\n",
    "    lm_results_list.append(current_elastic_cv_result)\n",
    "    \n",
    "    # Repeat using only the coefficients that pass some threshold defined by args.\n",
    "    \n",
    "    # Determine what to use as tresholding.\n",
    "    if min_coef_abs_threshold is not None:\n",
    "        thresholding = 'COEF'\n",
    "    elif max_rank_threshold is not None:\n",
    "        thresholding = 'RANK'\n",
    "    else:\n",
    "        thresholding = 'COEF'\n",
    "        min_coef_abs_threshold = 0\n",
    "    assert thresholding in ['COEF', 'RANK']\n",
    "\n",
    "    for it in range(prune_and_repeat_cycles):\n",
    "        \n",
    "        # Prune SNPs that don't meet threshold.\n",
    "        keep_snp_features = []\n",
    "        if thresholding == 'COEF':\n",
    "            # Calculate mean model coefficient for each observed SNP.\n",
    "            snp_to_average_coef_dict = {}\n",
    "            \n",
    "            # Weighted by score.\n",
    "            normalized_score_list = (\n",
    "                    np.array(current_elastic_cv_result['score_list']) /\n",
    "                    sum(current_elastic_cv_result['score_list']))\n",
    "            \n",
    "            for snp, coef_list in current_elastic_cv_result['snp_to_coef_list_dict'].iteritems():\n",
    "                snp_to_average_coef_dict[snp] = sum(np.array(coef_list) * normalized_score_list)\n",
    "\n",
    "            # Figure out which ones to keep based on threshold.\n",
    "            for snp, coef in snp_to_average_coef_dict.iteritems():\n",
    "                if coef <= 0 and abs(coef) > min_coef_abs_threshold:\n",
    "                    keep_snp_features.append(snp)\n",
    "        elif thresholding == 'RANK':\n",
    "            # Calculate mean ranking for each observed SNP.\n",
    "            snp_to_average_rank_dict = {}\n",
    "            for snp, rank_list in current_elastic_cv_result['snp_to_ranking_list_dict'].iteritems():\n",
    "                not_None_rank_list = [x for x in rank_list if x is not None]\n",
    "                snp_to_average_rank_dict[snp] = np.mean(not_None_rank_list)\n",
    "\n",
    "            # Figure out which ones to keep based on threshold.\n",
    "            for snp, rank in snp_to_average_rank_dict.iteritems():\n",
    "                if abs(rank) <= max_rank_threshold:\n",
    "                    keep_snp_features.append(snp)\n",
    "        else:\n",
    "            raise AssertionError('Invalid thresholding: %s' % thresholding)\n",
    "\n",
    "        sample_to_snp_occurrence_matrix_top_snps_only_df = (\n",
    "                sample_to_snp_occurrence_matrix_gt_type[keep_snp_features])\n",
    "        current_elastic_cv_result = model_fitting.multiple_apply_elastic_net_cv(\n",
    "                sample_to_snp_occurrence_matrix_top_snps_only_df,\n",
    "                doubling_times,\n",
    "                add_annotation_metadata,\n",
    "                repeats=repeats,\n",
    "                test_size=test_size,\n",
    "                l1_ratio_list=l1_ratio_list)\n",
    "        lm_results_list.append(current_elastic_cv_result)\n",
    "        \n",
    "    top_snps_repeated_elastic_cv_result = current_elastic_cv_result\n",
    "\n",
    "    # Calculate mean model coefficient for each observed SNP.\n",
    "    snp_to_average_coef_dict = {}\n",
    "\n",
    "    # Weighted by score.\n",
    "    normalized_score_list = (\n",
    "            np.array(top_snps_repeated_elastic_cv_result['score_list']) /\n",
    "            sum(top_snps_repeated_elastic_cv_result['score_list']))\n",
    "    for snp, coef_list in top_snps_repeated_elastic_cv_result['snp_to_coef_list_dict'].iteritems():\n",
    "        snp_to_average_coef_dict[snp] = sum(np.array(coef_list) * normalized_score_list)\n",
    "        \n",
    "    sorted_avg_coef_list = sorted(\n",
    "            snp_to_average_coef_dict.items(), key=operator.itemgetter(1))\n",
    "    print 'Num SNPs with > 0 average coefficient:', len(sorted_avg_coef_list)\n",
    "    \n",
    "    # Prepare report.\n",
    "    data_obj_list = []\n",
    "    for pos, coef in sorted_avg_coef_list:\n",
    "        data_obj_list.append({\n",
    "            'POSITION': pos,\n",
    "            'model_coef': coef\n",
    "        })\n",
    "\n",
    "    report_df = pd.merge(\n",
    "        pd.DataFrame(data_obj_list),\n",
    "        variant_data_annotated_only_df,\n",
    "        on='POSITION')\n",
    "    \n",
    "    return report_df, lm_results_list"
   ]
  },
  {
   "cell_type": "markdown",
   "metadata": {
    "deletable": true,
    "editable": true
   },
   "source": [
    "Now in prep for running modeling, we filter variants to those that are fixed and any de novo that occur at least 2 times."
   ]
  },
  {
   "cell_type": "code",
   "execution_count": 52,
   "metadata": {
    "collapsed": false,
    "deletable": true,
    "editable": true
   },
   "outputs": [
    {
     "name": "stdout",
     "output_type": "stream",
     "text": [
      "Num SNP features considered: 234\n",
      "...Reverted:  99\n",
      "...De Novo:  135\n",
      "Num samples considered: 90\n"
     ]
    }
   ],
   "source": [
    "melted_variant_data_df['log_doubling_time'] = np.log(melted_variant_data_df['doubling_time'])\n",
    "\n",
    "reverted_position_set = set(variant_data_annotated_only_df[\n",
    "        (variant_data_annotated_only_df['MUTATION_TYPE'] == MUTATION_TYPE__FIXED)\n",
    "]['POSITION'])\n",
    "\n",
    "de_novo_position_set = set(variant_data_annotated_only_df[\n",
    "        ((variant_data_annotated_only_df['MUTATION_TYPE'] == MUTATION_TYPE__DE_NOVO) &\n",
    "        (variant_data_annotated_only_df['count'] >= 2))\n",
    "]['POSITION'])\n",
    "\n",
    "keep_position_set = reverted_position_set | de_novo_position_set\n",
    "\n",
    "f_variant_data_df = melted_variant_data_df[\n",
    "        (melted_variant_data_df['POSITION'].apply(\n",
    "                lambda p: p in keep_position_set))\n",
    "]\n",
    "\n",
    "total_num_snps_considered = len(f_variant_data_df['POSITION'].unique())\n",
    "print 'Num SNP features considered:', total_num_snps_considered\n",
    "print '...Reverted: ', len(reverted_position_set)\n",
    "print '...De Novo: ', len(de_novo_position_set)\n",
    "print 'Num samples considered:', len(f_variant_data_df['BARCODE'].unique())"
   ]
  },
  {
   "cell_type": "markdown",
   "metadata": {
    "deletable": true,
    "editable": true
   },
   "source": [
    "Now run modeling.\n",
    "\n",
    "NOTE: Modeling result / model_coef values hard-coded to match Fig. 3. The modeling result is stochastic depending on train-test split with respect to alleles with weaker effect. See **Methods**."
   ]
  },
  {
   "cell_type": "code",
   "execution_count": 53,
   "metadata": {
    "collapsed": false,
    "deletable": true,
    "editable": true
   },
   "outputs": [
    {
     "name": "stdout",
     "output_type": "stream",
     "text": [
      "Num SNPs with > 0 average coefficient: 8\n"
     ]
    },
    {
     "data": {
      "text/html": [
       "<div>\n",
       "<table border=\"1\" class=\"dataframe\">\n",
       "  <thead>\n",
       "    <tr style=\"text-align: right;\">\n",
       "      <th></th>\n",
       "      <th>POSITION</th>\n",
       "      <th>model_coef</th>\n",
       "      <th>REF</th>\n",
       "      <th>ALT</th>\n",
       "      <th>MUTATION_TYPE</th>\n",
       "      <th>INFO_EFF_GENE</th>\n",
       "      <th>INFO_EFF_IMPACT</th>\n",
       "      <th>INFO_EFF_AA</th>\n",
       "      <th>GT_TYPE</th>\n",
       "      <th>count</th>\n",
       "    </tr>\n",
       "  </thead>\n",
       "  <tbody>\n",
       "    <tr>\n",
       "      <th>0</th>\n",
       "      <td>4102449</td>\n",
       "      <td>-0.119654</td>\n",
       "      <td>A</td>\n",
       "      <td>G</td>\n",
       "      <td>FIXED</td>\n",
       "      <td>cpxA</td>\n",
       "      <td>MODERATE</td>\n",
       "      <td>p.Trp184Arg/c.550T&gt;C</td>\n",
       "      <td>2.0</td>\n",
       "      <td>60</td>\n",
       "    </tr>\n",
       "    <tr>\n",
       "      <th>1</th>\n",
       "      <td>3990077</td>\n",
       "      <td>-0.046998</td>\n",
       "      <td>C</td>\n",
       "      <td>T</td>\n",
       "      <td>DE_NOVO</td>\n",
       "      <td>cyaA</td>\n",
       "      <td>MODERATE</td>\n",
       "      <td>p.Pro301Leu/c.902C&gt;T</td>\n",
       "      <td>2.0</td>\n",
       "      <td>31</td>\n",
       "    </tr>\n",
       "    <tr>\n",
       "      <th>2</th>\n",
       "      <td>1263523</td>\n",
       "      <td>-0.044777</td>\n",
       "      <td>T</td>\n",
       "      <td>C</td>\n",
       "      <td>FIXED</td>\n",
       "      <td>hemA</td>\n",
       "      <td>MODERATE</td>\n",
       "      <td>p.Leu196Pro/c.587T&gt;C</td>\n",
       "      <td>2.0</td>\n",
       "      <td>78</td>\n",
       "    </tr>\n",
       "    <tr>\n",
       "      <th>3</th>\n",
       "      <td>3092256</td>\n",
       "      <td>-0.035126</td>\n",
       "      <td>T</td>\n",
       "      <td>C</td>\n",
       "      <td>DE_NOVO</td>\n",
       "      <td>yggR</td>\n",
       "      <td>MODERATE</td>\n",
       "      <td>p.Thr283Ala/c.847A&gt;G</td>\n",
       "      <td>2.0</td>\n",
       "      <td>46</td>\n",
       "    </tr>\n",
       "    <tr>\n",
       "      <th>4</th>\n",
       "      <td>1511492</td>\n",
       "      <td>-0.030327</td>\n",
       "      <td>T</td>\n",
       "      <td>C</td>\n",
       "      <td>DE_NOVO</td>\n",
       "      <td>ydcT</td>\n",
       "      <td>MODERATE</td>\n",
       "      <td>p.Ser218Pro/c.652T&gt;C</td>\n",
       "      <td>2.0</td>\n",
       "      <td>17</td>\n",
       "    </tr>\n",
       "    <tr>\n",
       "      <th>5</th>\n",
       "      <td>200214</td>\n",
       "      <td>-0.011817</td>\n",
       "      <td>C</td>\n",
       "      <td>T</td>\n",
       "      <td>FIXED</td>\n",
       "      <td>bamA</td>\n",
       "      <td>MODERATE</td>\n",
       "      <td>p.Pro763Ser/c.2287C&gt;T</td>\n",
       "      <td>2.0</td>\n",
       "      <td>10</td>\n",
       "    </tr>\n",
       "    <tr>\n",
       "      <th>6</th>\n",
       "      <td>672170</td>\n",
       "      <td>-0.006232</td>\n",
       "      <td>C</td>\n",
       "      <td>A</td>\n",
       "      <td>FIXED</td>\n",
       "      <td>leuS</td>\n",
       "      <td>MODERATE</td>\n",
       "      <td>p.Val613Phe/c.1837G&gt;T</td>\n",
       "      <td>2.0</td>\n",
       "      <td>18</td>\n",
       "    </tr>\n",
       "    <tr>\n",
       "      <th>7</th>\n",
       "      <td>322579</td>\n",
       "      <td>-0.001609</td>\n",
       "      <td>C</td>\n",
       "      <td>T</td>\n",
       "      <td>DE_NOVO</td>\n",
       "      <td>ykgF</td>\n",
       "      <td>MODERATE</td>\n",
       "      <td>p.Pro340Ser/c.1018C&gt;T</td>\n",
       "      <td>2.0</td>\n",
       "      <td>69</td>\n",
       "    </tr>\n",
       "  </tbody>\n",
       "</table>\n",
       "</div>"
      ],
      "text/plain": [
       "   POSITION  model_coef REF ALT MUTATION_TYPE INFO_EFF_GENE INFO_EFF_IMPACT  \\\n",
       "0   4102449   -0.119654   A   G         FIXED          cpxA        MODERATE   \n",
       "1   3990077   -0.046998   C   T       DE_NOVO          cyaA        MODERATE   \n",
       "2   1263523   -0.044777   T   C         FIXED          hemA        MODERATE   \n",
       "3   3092256   -0.035126   T   C       DE_NOVO          yggR        MODERATE   \n",
       "4   1511492   -0.030327   T   C       DE_NOVO          ydcT        MODERATE   \n",
       "5    200214   -0.011817   C   T         FIXED          bamA        MODERATE   \n",
       "6    672170   -0.006232    C   A         FIXED          leuS        MODERATE   \n",
       "7    322579    -0.001609     C   T       DE_NOVO          ykgF        MODERATE   \n",
       "\n",
       "             INFO_EFF_AA  GT_TYPE  count  \n",
       "0   p.Trp184Arg/c.550T>C      2.0     60  \n",
       "1   p.Pro301Leu/c.902C>T      2.0     31  \n",
       "2   p.Leu196Pro/c.587T>C      2.0     78  \n",
       "3   p.Thr283Ala/c.847A>G      2.0     46  \n",
       "4   p.Ser218Pro/c.652T>C      2.0     17  \n",
       "5  p.Pro763Ser/c.2287C>T      2.0     10  \n",
       "6  p.Val613Phe/c.1837G>T      2.0     18  \n",
       "7  p.Pro340Ser/c.1018C>T      2.0     69  "
      ]
     },
     "execution_count": 53,
     "metadata": {},
     "output_type": "execute_result"
    }
   ],
   "source": [
    "LM_RESULT__ALL_DF, LM_RESULT__ALL__RESULTS_LIST = run_linear_modeling(\n",
    "        f_variant_data_df,\n",
    "        melted_variant_data_df,\n",
    "        repeats=100,\n",
    "        prune_and_repeat_cycles=1,\n",
    "        test_size=15,\n",
    "        doubling_time_key='log_doubling_time')\n",
    "\n",
    "LM_RESULT__ALL_DF"
   ]
  }
 ],
 "metadata": {
  "kernelspec": {
   "display_name": "Python 2",
   "language": "python",
   "name": "python2"
  },
  "language_info": {
   "codemirror_mode": {
    "name": "ipython",
    "version": 2
   },
   "file_extension": ".py",
   "mimetype": "text/x-python",
   "name": "python",
   "nbconvert_exporter": "python",
   "pygments_lexer": "ipython2",
   "version": "2.7.11"
  }
 },
 "nbformat": 4,
 "nbformat_minor": 0
}
